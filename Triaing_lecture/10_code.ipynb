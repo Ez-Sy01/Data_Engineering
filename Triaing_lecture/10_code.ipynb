{
 "cells": [
  {
   "cell_type": "code",
   "execution_count": 8,
   "metadata": {},
   "outputs": [],
   "source": [
    "import pandas as pd\n",
    "import numpy as np"
   ]
  },
  {
   "cell_type": "markdown",
   "metadata": {},
   "source": [
    "Combining Data\n",
    "    \n",
    "    - pandas 에서는 서로 다른 데이터 소스를 결합하기 위한 메서드들을 제공\n",
    "        - concat() : 서로 다른 두 데이터를 단순 연결 np.concatenate()\n",
    "        - merge(), join() : 다양한 데이터 조인, 병합 옵션 제공\n",
    "    \n",
    "    - Pandas의 concat() : np.concatenate() 보다 다양한 옵션 제공\n",
    "        - 함수 시그니처(함수 원형)\n",
    "        pandas.concat(objs, axis =0, join = 'outer', ignore_index = False, Keys = None, \n",
    "            levels = None, names = None, verify_integrity = False, sort = False, copy = True)\n",
    "        - objs : 연결대상 객체들\n",
    "        - axis : 연결 차원 축 axis = 0 ( 수직) / aixs = 1 (수평)\n",
    "        - join : 조인 옵션\n",
    "        - ignore_index : 기존의 인덱스 무시\n",
    "    - concatenate() 보다 concat()이 더 편한 이유\n",
    "        - 인덱스 중복 허용\n",
    "        - 인덱스 중복 에러 처리: verify_integrity = True\n",
    "        - 인덱스 무시 : ignore_index = True\n",
    "        - 계층적 인덱싱 지원 : Keys = [Keys] (참고)\n",
    "    - concat () 조인 옵션 : 서로 다른 열 집합을 가지는 객체를 연결 \n",
    "        -> 따로 제공하지만 concat에서 join 옵션을 설정해줄 수 있음. / join = outer : 합 집합 join = inner : 교집합\n",
    "    - pandas는 고성능 인메모리 조인과 병합 연산 기능을 제공\n",
    "    - 조인 연산, join(): 인덱스를 기준으로 두 DataFrame을 결합\n",
    "    - 병합 연산, merge() 데이터셋 조인/병합 관련 다양한 옵션 제공\n",
    "    \n",
    "    - Relational Algebra ( 관계 대수 )\n",
    "        - 관계 데이터의 연산 구칙을 수학적으로 나타낸 이론\n",
    "            - 관계형 데이터베이스(RDBMS)의 수학적 기반\n",
    "        - 조인 연산 유형\n",
    "            - 일대일(one-to-one)조인 : 공통 열의 중복 항목 없음\n",
    "            - 다대일(many-to-one)조인 : 두 DataFrame의 키 중에 하나가 중복된 항목을 포함\n",
    "            - 다대다(many-to-many)조인 : 두 DataFrame의 키가 모두 중복된 항목을 포함\n",
    "            \n",
    "        - merge() 에서 제공하는 데이터 결합 옵션들\n",
    "            - on: 병합에 사용할 공통 키\n",
    "            - left_on, right_on : 공통 키 역할을 하는 두 DataFrame 의 열\n",
    "            - left_index, right_index : 인덱스를 이용한 병합 여부\n",
    "            \n",
    "        - merge() 조인 옵션\n",
    "            - how = inner : 내부 조인(디폴트) -> 교집합\n",
    "                - pd.concat(): 외부 조인이 디폴트\n",
    "            - how = outer: 외부 조인 -> 합집합\n",
    "            - how = left: 왼쪽 조인(첫 번째 DataFrame 기준으로 조인)\n",
    "            - how = right: 오른쪽 조인(두 번째, DataFrame 기준으로 조인)"
   ]
  },
  {
   "cell_type": "code",
   "execution_count": 50,
   "metadata": {},
   "outputs": [
    {
     "name": "stdout",
     "output_type": "stream",
     "text": [
      "[1 2 3 4 5 6 7 8 9]\n",
      "[[1 2 3]\n",
      " [4 5 6]\n",
      " [7 8 9]]\n"
     ]
    }
   ],
   "source": [
    "\"\"\"\n",
    "    numpy.concatenate()\n",
    "\"\"\"\n",
    "x = [1,2,3]\n",
    "y = [4,5,6]\n",
    "z = [7,8,9]\n",
    "print(np.concatenate([x,y,z]))\n",
    "# vstack() : concatenate vertically\n",
    "# hstack() : concatenate horizontally\n",
    "\n",
    "print(np.vstack([x,y,z]))"
   ]
  },
  {
   "cell_type": "code",
   "execution_count": 51,
   "metadata": {},
   "outputs": [
    {
     "name": "stdout",
     "output_type": "stream",
     "text": [
      "1    A\n",
      "2    B\n",
      "3    C\n",
      "4    D\n",
      "5    E\n",
      "6    F\n",
      "dtype: object\n"
     ]
    }
   ],
   "source": [
    "\"\"\"\n",
    "pandas.concat()\n",
    "\"\"\"\n",
    "ser1 = pd.Series(['A','B','C'], index = [1,2,3])\n",
    "ser2 = pd.Series(['D','E','F'], index = [4,5,6])\n",
    "\n",
    "print(pd.concat([ser1,ser2])) # 명시적 index이기 때문에 4,5,6,1,2,3 순으로 되도 상관 없다.\n",
    "\n",
    "# Simply concatenate the two Series objects"
   ]
  },
  {
   "cell_type": "code",
   "execution_count": 52,
   "metadata": {},
   "outputs": [
    {
     "data": {
      "text/html": [
       "<div>\n",
       "<style scoped>\n",
       "    .dataframe tbody tr th:only-of-type {\n",
       "        vertical-align: middle;\n",
       "    }\n",
       "\n",
       "    .dataframe tbody tr th {\n",
       "        vertical-align: top;\n",
       "    }\n",
       "\n",
       "    .dataframe thead th {\n",
       "        text-align: right;\n",
       "    }\n",
       "</style>\n",
       "<table border=\"1\" class=\"dataframe\">\n",
       "  <thead>\n",
       "    <tr style=\"text-align: right;\">\n",
       "      <th></th>\n",
       "      <th>A</th>\n",
       "      <th>B</th>\n",
       "      <th>C</th>\n",
       "    </tr>\n",
       "  </thead>\n",
       "  <tbody>\n",
       "    <tr>\n",
       "      <th>1</th>\n",
       "      <td>A1</td>\n",
       "      <td>B1</td>\n",
       "      <td>C1</td>\n",
       "    </tr>\n",
       "    <tr>\n",
       "      <th>2</th>\n",
       "      <td>A2</td>\n",
       "      <td>B2</td>\n",
       "      <td>C2</td>\n",
       "    </tr>\n",
       "  </tbody>\n",
       "</table>\n",
       "</div>"
      ],
      "text/plain": [
       "    A   B   C\n",
       "1  A1  B1  C1\n",
       "2  A2  B2  C2"
      ]
     },
     "execution_count": 52,
     "metadata": {},
     "output_type": "execute_result"
    }
   ],
   "source": [
    "# make_df(): create a DataFrame object\n",
    "def make_df(cols, ind):\n",
    "    data = {c : [str(c) + str(i) for i in ind]\n",
    "           for c in cols}\n",
    "    \n",
    "    return pd.DataFrame(data,ind)\n",
    "\n",
    "make_df('ABC', [1,2]) # 2 by 3"
   ]
  },
  {
   "cell_type": "code",
   "execution_count": 53,
   "metadata": {},
   "outputs": [
    {
     "name": "stdout",
     "output_type": "stream",
     "text": [
      "    A   B\n",
      "1  A1  B1\n",
      "2  A2  B2 \n",
      "\n",
      "    A   B\n",
      "3  A3  B3\n",
      "4  A4  B4 \n",
      "\n",
      "    A   B\n",
      "1  A1  B1\n",
      "2  A2  B2\n",
      "3  A3  B3\n",
      "4  A4  B4\n"
     ]
    }
   ],
   "source": [
    "# concatenate the two DataFrame objects\n",
    "df1 = make_df('AB',[1,2])\n",
    "df2 = make_df('AB', [3,4])\n",
    "print(df1, '\\n')\n",
    "print(df2, '\\n')\n",
    "\n",
    "print(pd.concat([df1,df2]))"
   ]
  },
  {
   "cell_type": "code",
   "execution_count": 54,
   "metadata": {},
   "outputs": [
    {
     "name": "stdout",
     "output_type": "stream",
     "text": [
      "    A   B\n",
      "0  A0  B0\n",
      "1  A1  B1 \n",
      "\n",
      "    C   D\n",
      "0  C0  D0\n",
      "1  C1  D1 \n",
      "\n",
      "    A   B   C   D\n",
      "0  A0  B0  C0  D0\n",
      "1  A1  B1  C1  D1 \n",
      "\n",
      "     A    B    C    D\n",
      "0   A0   B0  NaN  NaN\n",
      "1   A1   B1  NaN  NaN\n",
      "0  NaN  NaN   C0   D0\n",
      "1  NaN  NaN   C1   D1 \n",
      "\n"
     ]
    }
   ],
   "source": [
    "df3 = make_df('AB',[0,1])\n",
    "df4 = make_df('CD',[0,1])\n",
    "\n",
    "print(df3, '\\n')\n",
    "print(df4, '\\n')\n",
    "\n",
    "print(pd.concat([df3,df4],axis = 1), '\\n')\n",
    "print(pd.concat([df3,df4],axis = 0), '\\n')"
   ]
  },
  {
   "cell_type": "code",
   "execution_count": 55,
   "metadata": {},
   "outputs": [
    {
     "name": "stdout",
     "output_type": "stream",
     "text": [
      "    A   B\n",
      "2  A2  B2\n",
      "3  A3  B3\n",
      "    A   B\n",
      "0  A2  B2\n",
      "1  A3  B3\n",
      "    A   B\n",
      "0  A0  B0\n",
      "1  A1  B1\n",
      "0  A2  B2\n",
      "1  A3  B3\n"
     ]
    }
   ],
   "source": [
    "\"\"\"\n",
    "    concate() Features\n",
    "\"\"\"\n",
    "\n",
    "# case1: Duplicate indices\n",
    "x = make_df('AB',[0,1])\n",
    "y = make_df('AB',[2,3])\n",
    "print(y)\n",
    "y.index = x.index\n",
    "print(y)\n",
    "\n",
    "print(pd.concat([x,y]))"
   ]
  },
  {
   "cell_type": "code",
   "execution_count": 56,
   "metadata": {},
   "outputs": [
    {
     "name": "stdout",
     "output_type": "stream",
     "text": [
      "ValueError:  Indexes have overlapping values: Int64Index([0, 1], dtype='int64')\n"
     ]
    }
   ],
   "source": [
    "# case 2 : Catching duplications as erros\n",
    "try:\n",
    "    pd.concat([x,y], verify_integrity = True)\n",
    "except ValueError as e:\n",
    "    print(\"ValueError: \", e)"
   ]
  },
  {
   "cell_type": "code",
   "execution_count": 57,
   "metadata": {},
   "outputs": [
    {
     "name": "stdout",
     "output_type": "stream",
     "text": [
      "    A   B\n",
      "0  A0  B0\n",
      "1  A1  B1\n",
      "2  A2  B2\n",
      "3  A3  B3\n"
     ]
    }
   ],
   "source": [
    "# case 3 : Ignore the Index:\n",
    "\n",
    "print(pd.concat([x,y], ignore_index = True)) # 인덱스를 다 날리고 zero base 정수로 자동으로 재할당해줌.\n"
   ]
  },
  {
   "cell_type": "code",
   "execution_count": 58,
   "metadata": {},
   "outputs": [],
   "source": [
    "# case 4: Adding multiindex Keys (hirechical)"
   ]
  },
  {
   "cell_type": "code",
   "execution_count": 59,
   "metadata": {},
   "outputs": [
    {
     "name": "stdout",
     "output_type": "stream",
     "text": [
      "    A   B\n",
      "0  A0  B0\n",
      "1  A1  B1\n",
      "    A   B\n",
      "0  A2  B2\n",
      "1  A3  B3\n",
      "    A   B\n",
      "0  A0  B0\n",
      "1  A1  B1\n",
      "0  A2  B2\n",
      "1  A3  B3 \n",
      "\n",
      "    A   B\n",
      "0  A0  B0\n",
      "1  A1  B1\n",
      "0  A2  B2\n",
      "1  A3  B3\n"
     ]
    }
   ],
   "source": [
    "# default : outer join -> union\n",
    "print(x)\n",
    "print(y)\n",
    "print(pd.concat([x,y], join = 'outer'), '\\n')\n",
    "print(pd.concat([x,y], join = 'inner'))"
   ]
  },
  {
   "cell_type": "code",
   "execution_count": 60,
   "metadata": {},
   "outputs": [
    {
     "data": {
      "text/plain": [
       "'\\njoin operator\\n'"
      ]
     },
     "execution_count": 60,
     "metadata": {},
     "output_type": "execute_result"
    }
   ],
   "source": [
    "\"\"\"\n",
    "join operator\n",
    "\"\"\""
   ]
  },
  {
   "cell_type": "code",
   "execution_count": 61,
   "metadata": {},
   "outputs": [],
   "source": [
    "# one-to-one"
   ]
  },
  {
   "cell_type": "code",
   "execution_count": 62,
   "metadata": {},
   "outputs": [],
   "source": [
    "# many-to-one"
   ]
  },
  {
   "cell_type": "code",
   "execution_count": 63,
   "metadata": {},
   "outputs": [],
   "source": [
    "# many-to-many"
   ]
  },
  {
   "cell_type": "code",
   "execution_count": 70,
   "metadata": {},
   "outputs": [
    {
     "name": "stdout",
     "output_type": "stream",
     "text": [
      "    A   B  age\n",
      "1  A1  B1   42\n",
      "2  A2  B2   37 \n",
      "\n",
      "    A   B   age\n",
      "3  A3  B3  25.0\n",
      "4  A4  B4   NaN \n",
      "\n"
     ]
    }
   ],
   "source": [
    "# 'on' argument: use a common column as merge key\n",
    "\n",
    "df1['age'] = pd.Series([20,42,37,25])\n",
    "df2['age'] = pd.Series([37,20,42,25])\n",
    "print(df1, '\\n')\n",
    "print(df2, '\\n')\n",
    "\n",
    "# print(pd.merge(df1, df2, on = 'employee')) # -> age 기준으로 merge"
   ]
  },
  {
   "cell_type": "code",
   "execution_count": 71,
   "metadata": {},
   "outputs": [],
   "source": [
    "# 'left_on', 'right_on' argument\n",
    "# pd.merge(df1, df3, left_on = 'employee', right_on = 'name')"
   ]
  },
  {
   "cell_type": "code",
   "execution_count": 74,
   "metadata": {},
   "outputs": [
    {
     "name": "stdout",
     "output_type": "stream",
     "text": [
      "    A   B  age\n",
      "1  A1  B1   42\n",
      "2  A2  B2   37 \n",
      "\n",
      "    A   B   age\n",
      "3  A3  B3  25.0\n",
      "4  A4  B4   NaN \n",
      "\n"
     ]
    },
    {
     "ename": "KeyError",
     "evalue": "\"None of ['employee'] are in the columns\"",
     "output_type": "error",
     "traceback": [
      "\u001b[1;31m---------------------------------------------------------------------------\u001b[0m",
      "\u001b[1;31mKeyError\u001b[0m                                  Traceback (most recent call last)",
      "\u001b[1;32m<ipython-input-74-56d9842d1984>\u001b[0m in \u001b[0;36m<module>\u001b[1;34m\u001b[0m\n\u001b[0;32m      2\u001b[0m \u001b[0mprint\u001b[0m\u001b[1;33m(\u001b[0m\u001b[0mdf2\u001b[0m\u001b[1;33m,\u001b[0m \u001b[1;34m'\\n'\u001b[0m\u001b[1;33m)\u001b[0m\u001b[1;33m\u001b[0m\u001b[1;33m\u001b[0m\u001b[0m\n\u001b[0;32m      3\u001b[0m \u001b[1;33m\u001b[0m\u001b[0m\n\u001b[1;32m----> 4\u001b[1;33m \u001b[0mdf1a\u001b[0m \u001b[1;33m=\u001b[0m \u001b[0mdf1\u001b[0m\u001b[1;33m.\u001b[0m\u001b[0mset_index\u001b[0m\u001b[1;33m(\u001b[0m\u001b[1;34m'employee'\u001b[0m\u001b[1;33m)\u001b[0m\u001b[1;33m\u001b[0m\u001b[1;33m\u001b[0m\u001b[0m\n\u001b[0m\u001b[0;32m      5\u001b[0m \u001b[0mdf2a\u001b[0m \u001b[1;33m=\u001b[0m \u001b[0mdf1\u001b[0m\u001b[1;33m.\u001b[0m\u001b[0mset_index\u001b[0m\u001b[1;33m(\u001b[0m\u001b[1;34m'employee'\u001b[0m\u001b[1;33m)\u001b[0m\u001b[1;33m\u001b[0m\u001b[1;33m\u001b[0m\u001b[0m\n\u001b[0;32m      6\u001b[0m \u001b[0mprint\u001b[0m\u001b[1;33m(\u001b[0m\u001b[0mdf1a\u001b[0m\u001b[1;33m,\u001b[0m \u001b[1;34m'\\n'\u001b[0m\u001b[1;33m)\u001b[0m\u001b[1;33m\u001b[0m\u001b[1;33m\u001b[0m\u001b[0m\n",
      "\u001b[1;32mC:\\anaconda_download\\lib\\site-packages\\pandas\\core\\frame.py\u001b[0m in \u001b[0;36mset_index\u001b[1;34m(self, keys, drop, append, inplace, verify_integrity)\u001b[0m\n\u001b[0;32m   4301\u001b[0m \u001b[1;33m\u001b[0m\u001b[0m\n\u001b[0;32m   4302\u001b[0m         \u001b[1;32mif\u001b[0m \u001b[0mmissing\u001b[0m\u001b[1;33m:\u001b[0m\u001b[1;33m\u001b[0m\u001b[1;33m\u001b[0m\u001b[0m\n\u001b[1;32m-> 4303\u001b[1;33m             \u001b[1;32mraise\u001b[0m \u001b[0mKeyError\u001b[0m\u001b[1;33m(\u001b[0m\u001b[1;34mf\"None of {missing} are in the columns\"\u001b[0m\u001b[1;33m)\u001b[0m\u001b[1;33m\u001b[0m\u001b[1;33m\u001b[0m\u001b[0m\n\u001b[0m\u001b[0;32m   4304\u001b[0m \u001b[1;33m\u001b[0m\u001b[0m\n\u001b[0;32m   4305\u001b[0m         \u001b[1;32mif\u001b[0m \u001b[0minplace\u001b[0m\u001b[1;33m:\u001b[0m\u001b[1;33m\u001b[0m\u001b[1;33m\u001b[0m\u001b[0m\n",
      "\u001b[1;31mKeyError\u001b[0m: \"None of ['employee'] are in the columns\""
     ]
    }
   ],
   "source": [
    "print(df1, '\\n')\n",
    "print(df2, '\\n')\n",
    "\n",
    "df1a = df1.set_index('employee')\n",
    "df2a = df1.set_index('employee')\n",
    "print(df1a, '\\n')\n",
    "print(df2a, '\\n')\n",
    "# print(pd.merge(df1a, df2a, left_index = True, right_index = True))"
   ]
  },
  {
   "cell_type": "code",
   "execution_count": null,
   "metadata": {},
   "outputs": [],
   "source": [
    "\"\"\"\n",
    "    Specifying the join method\n",
    "\"\"\""
   ]
  },
  {
   "cell_type": "code",
   "execution_count": null,
   "metadata": {},
   "outputs": [],
   "source": []
  }
 ],
 "metadata": {
  "kernelspec": {
   "display_name": "Python 3",
   "language": "python",
   "name": "python3"
  },
  "language_info": {
   "codemirror_mode": {
    "name": "ipython",
    "version": 3
   },
   "file_extension": ".py",
   "mimetype": "text/x-python",
   "name": "python",
   "nbconvert_exporter": "python",
   "pygments_lexer": "ipython3",
   "version": "3.7.6"
  }
 },
 "nbformat": 4,
 "nbformat_minor": 4
}
