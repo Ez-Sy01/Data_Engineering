{
 "cells": [
  {
   "cell_type": "code",
   "execution_count": 2,
   "metadata": {},
   "outputs": [
    {
     "name": "stdout",
     "output_type": "stream",
     "text": [
      "100\n",
      "Hellow world\n",
      "Hellow world\n",
      "3.14\n",
      "My name is Si Yoon!\n"
     ]
    }
   ],
   "source": [
    "\"\"\"\n",
    "print() function\n",
    "CTRL + Enter => 실행\n",
    "SHIFT + Enter => 실행하고 밑으로 내려감\n",
    "\"\"\"\n",
    "\n",
    "print(100)\n",
    "print(\"Hellow world\")\n",
    "print('Hellow world')\n",
    "pi = 3.14\n",
    "print(pi)\n",
    "\n",
    "intro = \"My name is \"\n",
    "name = \"Si Yoon\"\n",
    "print(intro + name + \"!\")"
   ]
  },
  {
   "cell_type": "code",
   "execution_count": 3,
   "metadata": {},
   "outputs": [
    {
     "name": "stdout",
     "output_type": "stream",
     "text": [
      "My name is SiYoon Kim\n",
      "My id is 202055051\n",
      "My email is kimshiyoun1@hs.ac.kr\n",
      "Are you student?\n",
      "True\n"
     ]
    }
   ],
   "source": [
    "\"\"\"\n",
    "Variables\n",
    "\"\"\"\n",
    "\n",
    "user_name = \"SiYoon Kim\"\n",
    "user_id = 202055051\n",
    "user_email = \"kimshiyoun1@hs.ac.kr\"\n",
    "is_student = True\n",
    "user_weight = 55\n",
    "\n",
    "print('My name is ' + user_name)\n",
    "print('My id is',user_id)\n",
    "print('My email is ' + user_email)\n",
    "print('Are you student?')\n",
    "print(is_student)"
   ]
  },
  {
   "cell_type": "code",
   "execution_count": 4,
   "metadata": {},
   "outputs": [
    {
     "name": "stdout",
     "output_type": "stream",
     "text": [
      "My address is 140726591857040\n",
      "My address is 140726591857072\n"
     ]
    }
   ],
   "source": [
    "x = 1\n",
    "print('My address is' , id(x))\n",
    "x = 2\n",
    "print('My address is', id(x))"
   ]
  },
  {
   "cell_type": "code",
   "execution_count": 5,
   "metadata": {},
   "outputs": [],
   "source": [
    "# Valid cases:\n",
    "Myvar = \"John\"\n",
    "my_var = \"John\"\n",
    "_my_var = \"John\"\n",
    "myVar = \"John\"\n",
    "MYVAR = \"John\"\n",
    "myvar2 = \"John\""
   ]
  },
  {
   "cell_type": "code",
   "execution_count": 6,
   "metadata": {},
   "outputs": [],
   "source": [
    "# Data type : Integers\n",
    "air_corn = 4\n",
    "sofa = 1\n",
    "bed = 4\n",
    "TV = 2"
   ]
  },
  {
   "cell_type": "code",
   "execution_count": 7,
   "metadata": {},
   "outputs": [
    {
     "name": "stdout",
     "output_type": "stream",
     "text": [
      "100000000000000000000000\n"
     ]
    }
   ],
   "source": [
    "# Data type : Real Number\n",
    "pi = 3.14\n",
    "kospi_index = 3125.76\n",
    "krw_usd_exchange = 1176.83\n",
    "weight = 55.4\n",
    "Avogadro_constant = 6.02214076 * (10 ** 23)\n",
    "print(10 ** 23)"
   ]
  },
  {
   "cell_type": "code",
   "execution_count": 8,
   "metadata": {},
   "outputs": [
    {
     "name": "stdout",
     "output_type": "stream",
     "text": [
      "fail is mother of success\n",
      "valorant\n",
      "steph curry\n",
      "basket ball\n",
      "fail is mother of successbasket ballvalorantsteph curry\n"
     ]
    }
   ],
   "source": [
    "# Data Types: Strings\n",
    "\n",
    "favorite_motto = \"fail is mother of success\"\n",
    "favorite_exercise = \"basket ball\"\n",
    "favorite_game = \"valorant\"\n",
    "favorite_athlete = \"steph curry\"\n",
    "print(favorite_motto)\n",
    "print(favorite_game)\n",
    "print(favorite_athlete)\n",
    "print(favorite_exercise)\n",
    "favorites = favorite_motto + favorite_exercise + favorite_game + favorite_athlete\n",
    "print(favorites)"
   ]
  },
  {
   "cell_type": "code",
   "execution_count": 9,
   "metadata": {},
   "outputs": [
    {
     "name": "stdout",
     "output_type": "stream",
     "text": [
      "4\n"
     ]
    }
   ],
   "source": [
    "\"\"\"\n",
    "X-equals Operations\n",
    "\"\"\"\n",
    "\n",
    "a = 2\n",
    "a += 2\n",
    "print(a)"
   ]
  },
  {
   "cell_type": "code",
   "execution_count": 10,
   "metadata": {},
   "outputs": [
    {
     "ename": "SyntaxError",
     "evalue": "EOL while scanning string literal (<ipython-input-10-d4f93571b66b>, line 8)",
     "output_type": "error",
     "traceback": [
      "\u001b[1;36m  File \u001b[1;32m\"<ipython-input-10-d4f93571b66b>\"\u001b[1;36m, line \u001b[1;32m8\u001b[0m\n\u001b[1;33m    his_name = \"SiYoon Kim\u001b[0m\n\u001b[1;37m                          ^\u001b[0m\n\u001b[1;31mSyntaxError\u001b[0m\u001b[1;31m:\u001b[0m EOL while scanning string literal\n"
     ]
    }
   ],
   "source": [
    "\"\"\"\n",
    "Erorrs\n",
    "\"\"\"\n",
    "\n",
    "# Name Erorr\n",
    "\n",
    "print(his_name)\n",
    "his_name = \"SiYoon Kim"
   ]
  },
  {
   "cell_type": "markdown",
   "metadata": {},
   "source": [
    "# Practice 1:\n",
    "아래 코드들은 무엇을 하는 코드입니다."
   ]
  },
  {
   "cell_type": "code",
   "execution_count": 11,
   "metadata": {},
   "outputs": [],
   "source": [
    "# code"
   ]
  },
  {
   "cell_type": "code",
   "execution_count": 20,
   "metadata": {},
   "outputs": [
    {
     "name": "stdout",
     "output_type": "stream",
     "text": [
      "흥민이는 정처기 시험을 응시했는가? True\n",
      "흥민이는 정처기 시험을 통과했는가? False\n",
      "<class 'bool'>\n",
      "<class 'int'>\n",
      "<class 'float'>\n",
      "<class 'str'>\n"
     ]
    }
   ],
   "source": [
    "#Data types : Boolean variables\n",
    "\n",
    "is_tested = True\n",
    "is_passed = False\n",
    "\n",
    "print('흥민이는 정처기 시험을 응시했는가?', is_tested)\n",
    "print('흥민이는 정처기 시험을 통과했는가?', is_passed)\n",
    "\n",
    "print(type(is_tested))\n",
    "\n",
    "a = 3\n",
    "print(type(a))\n",
    "a = 3.14\n",
    "print(type(a))\n",
    "a = \"3.14\"\n",
    "print(type(a))"
   ]
  },
  {
   "cell_type": "code",
   "execution_count": 24,
   "metadata": {},
   "outputs": [
    {
     "name": "stdout",
     "output_type": "stream",
     "text": [
      "True\n",
      "False\n",
      "False\n",
      "True\n",
      "True\n"
     ]
    }
   ],
   "source": [
    "\"\"\"\n",
    "Relatioanl Operations (관계 연산자)\n",
    "피연산자 : operand\n",
    "이항연산자 : binary operator\n",
    "\"\"\"\n",
    "a = 2\n",
    "b = 3\n",
    "print(a<b)\n",
    "print(a>b)\n",
    "print(a>=b)\n",
    "print(a<=b)\n",
    "print(a<=a)"
   ]
  },
  {
   "cell_type": "code",
   "execution_count": 27,
   "metadata": {},
   "outputs": [
    {
     "name": "stdout",
     "output_type": "stream",
     "text": [
      "True\n",
      "True\n",
      "False\n"
     ]
    }
   ],
   "source": [
    "\"\"\"\n",
    "Equal Operator ( == )\n",
    "result is boolean\n",
    "\"\"\"\n",
    "#1\n",
    "print(\"Yes\" == 'Yes')\n",
    "\n",
    "#2\n",
    "print((2 > 1) == (5 < 10))\n",
    "\n",
    "#3\n",
    "c = '2'\n",
    "d = 2\n",
    "print(c == d)"
   ]
  },
  {
   "cell_type": "code",
   "execution_count": 28,
   "metadata": {},
   "outputs": [
    {
     "name": "stdout",
     "output_type": "stream",
     "text": [
      "True\n",
      "True\n",
      "True\n"
     ]
    }
   ],
   "source": [
    "\"\"\"\n",
    "Not Equals Operator ( != )\n",
    "True : A와 B가 같지 않은 경우\n",
    "False : A와 B가 같을 경우\n",
    "\"\"\"\n",
    "#1\n",
    "print(\"Yes\" != \"No\")\n",
    "\n",
    "#2\n",
    "val1 = 10\n",
    "val2 = 20\n",
    "print(val1 != val2)\n",
    "\n",
    "#3\n",
    "print((10 > 1) != (10 > 1000))"
   ]
  },
  {
   "cell_type": "code",
   "execution_count": 32,
   "metadata": {},
   "outputs": [
    {
     "name": "stdout",
     "output_type": "stream",
     "text": [
      "True\n",
      "True\n",
      "False\n",
      "True\n",
      "False\n",
      "True\n"
     ]
    }
   ],
   "source": [
    "\"\"\"\n",
    "논리 연산자 ( or / and / not )\n",
    "or Operator\n",
    "True : A, B 중에서 한개 이상이 True인 경우\n",
    "False : 그 외\n",
    "\"\"\"\n",
    "print(True or True)\n",
    "print(True or False)\n",
    "print(False or False)\n",
    "print(1 < 2 or 3 < 1)\n",
    "print(3 < 1 or 1 > 6)\n",
    "print(1 == 1 or 1 < 2)"
   ]
  },
  {
   "cell_type": "code",
   "execution_count": 34,
   "metadata": {},
   "outputs": [
    {
     "name": "stdout",
     "output_type": "stream",
     "text": [
      "True\n",
      "False\n",
      "False\n",
      "True\n",
      "False\n"
     ]
    }
   ],
   "source": [
    "\"\"\"\n",
    "and Operator\n",
    "True : A, B 모두 True인 경우\n",
    "False : 그 외\n",
    "\"\"\"\n",
    "print(True and True)\n",
    "print(True and False)\n",
    "print(False and False)\n",
    "print(1 == 1 and 1 < 2)\n",
    "print(1 < 2 and 3 < 1)"
   ]
  },
  {
   "cell_type": "code",
   "execution_count": 36,
   "metadata": {},
   "outputs": [
    {
     "name": "stdout",
     "output_type": "stream",
     "text": [
      "False\n",
      "True\n",
      "True\n",
      "False\n"
     ]
    }
   ],
   "source": [
    "\"\"\"\n",
    "not Operator\n",
    "True : A가 False인 경우\n",
    "False : A가 True인 경우\n",
    "\"\"\"\n",
    "print(not True)\n",
    "print(not False)\n",
    "print(not 1 > 2)\n",
    "print(not 1 == 1)"
   ]
  },
  {
   "cell_type": "code",
   "execution_count": 62,
   "metadata": {},
   "outputs": [
    {
     "name": "stdout",
     "output_type": "stream",
     "text": [
      "말티즈\n",
      "말티즈 새끼\n",
      "True\n"
     ]
    }
   ],
   "source": [
    "\"\"\"\n",
    "Conditional Statements ( if / elif / else)\n",
    "조건문: 조건 표현식의 Boolean 값에 따라 프로그램의 실행 경로를 결정\n",
    "True : 코드 실행\n",
    "False : 코드 실행 X\n",
    "\n",
    "조건문 유형 : if / elif / else\n",
    "---- 중첩해서 사용 가능 ----\n",
    "\"\"\"\n",
    "# puppy = 'maltepoo'\n",
    "puppy = 'maltese'\n",
    "is_yes = False\n",
    "age = 1\n",
    "\n",
    "if puppy == 'maltese':\n",
    "    print('말티즈')\n",
    "    is_yes = True\n",
    "    if age < 3:\n",
    "        print('말티즈 새끼')\n",
    "elif puppy == 'puddle':\n",
    "    print('푸들')\n",
    "    is_yes = True\n",
    "    \n",
    "elif puppy == 'shitzu':\n",
    "    print('시츄')\n",
    "    is_yes = True\n",
    "\n",
    "else:\n",
    "    print('아! 말티푸구나')\n",
    "    is_yes = True\n",
    "print(is_yes)"
   ]
  },
  {
   "cell_type": "code",
   "execution_count": 66,
   "metadata": {},
   "outputs": [
    {
     "name": "stdout",
     "output_type": "stream",
     "text": [
      "[ERROR]: y is not declared\n",
      "continue\n"
     ]
    }
   ],
   "source": [
    "\"\"\"\n",
    "Handling Exception in Python / 언어마다 다름\n",
    "-프로그래밍 과정에서 에러는 피할 수 없다.\n",
    "    에러가 발생하면? 에러 메시지와 함께 프로그램 종료\n",
    "-솔류션: 발생 가능한 에러에 대해 예외처리(exception)\n",
    "    try 문: 에러 발생 여부를 검사\n",
    "    except 문: try 문에서 에러 발생 시 실행(예외처리 코드)\n",
    "-try/except 문의 장점\n",
    "    에러 핸들링\n",
    "    프로그램 종료없이 다음 코드 실행\n",
    "\"\"\"\n",
    "# Exception Handling\n",
    "x = 1\n",
    "\n",
    "try:\n",
    "    print(y)\n",
    "    print(x) # be skipped\n",
    "except:\n",
    "    print(\"[ERROR]: y is not declared\") \n",
    "    \n",
    "print('continue')"
   ]
  }
 ],
 "metadata": {
  "kernelspec": {
   "display_name": "Python 3",
   "language": "python",
   "name": "python3"
  },
  "language_info": {
   "codemirror_mode": {
    "name": "ipython",
    "version": 3
   },
   "file_extension": ".py",
   "mimetype": "text/x-python",
   "name": "python",
   "nbconvert_exporter": "python",
   "pygments_lexer": "ipython3",
   "version": "3.7.6"
  }
 },
 "nbformat": 4,
 "nbformat_minor": 4
}
