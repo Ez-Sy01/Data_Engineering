{
 "cells": [
  {
   "cell_type": "markdown",
   "metadata": {},
   "source": [
    "Universal Funcitions (UFuncs)\n",
    " - 유니버셜 함수: Numpy에서 ㅈ공하는 벡터화 연산 함수 (numpy.ufunc)\n",
    "     - 다차원 배열에 대한 원소 별 (element-wise) 연산을 수행\n",
    "     - 벡터화(vectorization): 루프 연산을 인터프리터 계층이 아닌 컴파일 계층에서 수행\n",
    "     > 배열 연산을 빠르게 처리\n",
    "     - 유연한 연산 제공: 스칼라배열, 배열-배열, 다차원 배열 연산 등\n",
    "         - 유니버설 함수의 벡터화 연산은 파이썬 루프로 구현된 연산보다 대부분 더 효율적\n",
    "     - 파이썬 반복문을 작성할 때 벡터화 연산으로 대체 가능한지 검토할 필요가 있음.\n",
    "     \n",
    "     - 배열의 사칙연산: 파이썬 기본 산술 연산자 또는 UFunc 사용\n",
    "     \n",
    "UFuncs: Absolute Value\n",
    " - np.abs(): 절댓값 함수\n",
    "     - 파이썬에서 abs() 기본으로 제공하지만, 벡터화 연산을 위해 np.abs()사용\n",
    "     > cf. 복소수 절댓값 계산도 가능함.\n",
    "\n",
    "UFuncs: linspace()\n",
    "\n",
    " - np.linspace(start, stop, num): 선형간격의 벡터 생성\n",
    "     - 다양한 벡터/행렬 생성에 자주 사용됨\n",
    "     \n",
    "UFuncs: Trigonometric Functions\n",
    "    \n",
    "    - 삼각함수: 데이터과학에서 자주 사용되는 함수\n",
    "        - np.sin(): 사인 함수\n",
    "        - np.cos(): 코사인 함수\n",
    "        - np.tan(): 탄젠트 함수\n",
    "        - 역삼각함수: np.arcsin(), np.arccos(), np.arctan()\n",
    "        \n",
    "UFuncs: etc\n",
    "\n",
    "    - 지수와 로그: np.exp(), np.power(), np.log(), np.log10() 등\n",
    "    - 그외: 쌍곡선 삼각함수, 비트연산, 비교 연산자, 라디안 등\n",
    "    - scipy.special: 고급 수치연산을 유니버설 함수 형태로 제공하는 패키지\n",
    "        - 감마함수, 가우스 적분, 보수/역수 등\n",
    "        \n",
    "UFuncs: Aggregation\n",
    "\n",
    "    - 데이터의 기술통계(descriptive statistics)를 위한 집계 함수 제공\n",
    "    - reduce(): 배열을 특정 연산으로 축소\n",
    "    - accumulate(): 계산의 중간 결과들을 배열로 저장\n",
    "    - 배열 합계 계산: np.sum()\n",
    "         > 파이썬 내장함수 sum()보다 연산이 훨씬 빠름\n",
    "\n",
    "Multi Dimensional Aggregates\n",
    "    \n",
    "    - 다차원 집계: 특정 차원을 기준으로 집계\n",
    "        - axis 속성\n",
    "            > aixs = 0 : 세로\n",
    "            > axis = 1 : 가로"
   ]
  },
  {
   "cell_type": "code",
   "execution_count": 21,
   "metadata": {},
   "outputs": [
    {
     "name": "stdout",
     "output_type": "stream",
     "text": [
      "[8 7 2 1 2]\n"
     ]
    }
   ],
   "source": [
    "import numpy as np\n",
    "\"\"\"\n",
    "Computing reciprocals in loops\n",
    "\"\"\"\n",
    "# Function for computing reciprocals using looping\n",
    "def compute_reciprocals(values):\n",
    "    output = np.empty(len(values))\n",
    "    for i in range(len(values)):\n",
    "        output[i] = 1.0 / values[i]\n",
    "    return output\n",
    "values = np.random.randint(1,10, size = 5)\n",
    "print(values)"
   ]
  },
  {
   "cell_type": "code",
   "execution_count": 22,
   "metadata": {},
   "outputs": [
    {
     "name": "stdout",
     "output_type": "stream",
     "text": [
      "2.89 s ± 320 ms per loop (mean ± std. dev. of 7 runs, 1 loop each)\n"
     ]
    }
   ],
   "source": [
    "\"\"\"\n",
    "Comparison: Loop vs ufuncs(vectorized)\n",
    "\"\"\"\n",
    "\n",
    "big_array = np.random.randint(1,100, size = 1000000)\n",
    "\n",
    "# Looping on a big array\n",
    "\n",
    "# jupyter magic function (%timeit)\n",
    "%timeit compute_reciprocals(big_array)"
   ]
  },
  {
   "cell_type": "code",
   "execution_count": 23,
   "metadata": {},
   "outputs": [
    {
     "name": "stdout",
     "output_type": "stream",
     "text": [
      "5.63 ms ± 711 µs per loop (mean ± std. dev. of 7 runs, 100 loops each)\n"
     ]
    }
   ],
   "source": [
    "# Vectorized operations\n",
    "%timeit 1 / big_array"
   ]
  },
  {
   "cell_type": "code",
   "execution_count": 24,
   "metadata": {},
   "outputs": [
    {
     "name": "stdout",
     "output_type": "stream",
     "text": [
      "[5 8 9 5 0] [0 1 7 6 9]\n",
      "[-2 -1  5  4  7] [0 1 7 6 9]\n",
      "[-2  0 12 10 16]\n",
      "[[2 4 5 2 4]\n",
      " [2 4 7 7 9]\n",
      " [1 7 0 6 9]]\n",
      "[[ 4 16 25  4 16]\n",
      " [ 4 16 49 49 81]\n",
      " [ 1 49  0 36 81]]\n"
     ]
    }
   ],
   "source": [
    "\"\"\"\n",
    "numpy.ufunc\n",
    "\"\"\"\n",
    "\n",
    "np.random.seed(1)\n",
    "arr1 = np.random.randint(10, size = 5)\n",
    "arr2 = np.random.randint(10, size = 5)\n",
    "print(arr1, arr2)\n",
    "arr1 = arr2 - 2\n",
    "print(arr1, arr2)\n",
    "\n",
    "arr3 = arr1 + arr2\n",
    "print(arr3)\n",
    "\n",
    "arr4 = np.random.randint(10, size = (3,5))\n",
    "print(arr4)\n",
    "\n",
    "arr5 = arr4 ** 2\n",
    "print(arr5)"
   ]
  },
  {
   "cell_type": "code",
   "execution_count": 26,
   "metadata": {},
   "outputs": [
    {
     "name": "stdout",
     "output_type": "stream",
     "text": [
      "[2 1 0 1 2]\n",
      "[5. 5. 2. 1.]\n"
     ]
    }
   ],
   "source": [
    "\"\"\"\n",
    "UFuncs: Absolute value\n",
    "\"\"\"\n",
    "\n",
    "x = np.array([-2, -1, 0, 1, 2])\n",
    "print(np.abs(x))\n",
    "\n",
    "x = np.array([3-4j, 4-3j, 2+0j, 0+1j])\n",
    "print(np.abs(x))"
   ]
  },
  {
   "cell_type": "code",
   "execution_count": 34,
   "metadata": {},
   "outputs": [
    {
     "name": "stdout",
     "output_type": "stream",
     "text": [
      "[0.         1.57079633 3.14159265]\n",
      "[0.0000000e+00 1.0000000e+00 1.2246468e-16]\n",
      "[ 1.000000e+00  6.123234e-17 -1.000000e+00]\n",
      "[ 0.00000000e+00  1.63312394e+16 -1.22464680e-16]\n",
      "[  0  11  22  33  44  55  66  77  88 100]\n"
     ]
    }
   ],
   "source": [
    "\"\"\"\n",
    "UFuncs: Trigonometric Functions\n",
    "\"\"\"\n",
    "\n",
    "theta = np.linspace(0, np.pi, 3)\n",
    "print(theta)\n",
    "print(np.sin(theta))\n",
    "print(np.cos(theta))\n",
    "print(np.tan(theta))\n",
    "\n",
    "x = np.linspace(0, 100, 10, dtype = 'int32')\n",
    "print(x)"
   ]
  },
  {
   "cell_type": "code",
   "execution_count": 36,
   "metadata": {},
   "outputs": [
    {
     "name": "stdout",
     "output_type": "stream",
     "text": [
      "[1 2 3 4]\n",
      "10\n",
      "24\n"
     ]
    }
   ],
   "source": [
    "\"\"\"\n",
    "UFuncs: Aggregation\n",
    "\"\"\"\n",
    "\n",
    "x = np.arange(1, 5)\n",
    "print(x)\n",
    "aggr = np.add.reduce(x)\n",
    "print(aggr)\n",
    "\n",
    "aggr = np.multiply.reduce(x)\n",
    "print(aggr)"
   ]
  },
  {
   "cell_type": "code",
   "execution_count": 39,
   "metadata": {},
   "outputs": [
    {
     "name": "stdout",
     "output_type": "stream",
     "text": [
      "[1 2 3 4]\n",
      "[ 1  3  6 10]\n",
      "[ 1  2  6 24]\n"
     ]
    }
   ],
   "source": [
    "# accumulate()\n",
    "print(x)\n",
    "\n",
    "accum = np.add.accumulate(x)\n",
    "print(accum)\n",
    "\n",
    "accum = np.multiply.accumulate(x)\n",
    "print(accum)"
   ]
  },
  {
   "cell_type": "code",
   "execution_count": 42,
   "metadata": {},
   "outputs": [
    {
     "name": "stdout",
     "output_type": "stream",
     "text": [
      "[0.5507979  0.70814782 0.29090474 ... 0.93033748 0.80429816 0.47400579]\n",
      "sum =  500422.19897015305\n"
     ]
    }
   ],
   "source": [
    "# Summing the values in an Array\n",
    "\n",
    "np.random.seed(3)\n",
    "arr = np.random.rand(1000000) # rand(): creat 0 ~ 1 real numbers create\n",
    "\n",
    "print(arr)\n",
    "print('sum = ', np.sum(arr))"
   ]
  },
  {
   "cell_type": "code",
   "execution_count": 43,
   "metadata": {},
   "outputs": [
    {
     "name": "stdout",
     "output_type": "stream",
     "text": [
      "91 ms ± 4.03 ms per loop (mean ± std. dev. of 7 runs, 10 loops each)\n"
     ]
    }
   ],
   "source": [
    "%timeit sum(arr)"
   ]
  },
  {
   "cell_type": "code",
   "execution_count": 45,
   "metadata": {},
   "outputs": [
    {
     "name": "stdout",
     "output_type": "stream",
     "text": [
      "1.67 ms ± 92.9 µs per loop (mean ± std. dev. of 7 runs, 100 loops each)\n"
     ]
    }
   ],
   "source": [
    "%timeit np.sum(arr) # 1000µs = 1ms"
   ]
  },
  {
   "cell_type": "code",
   "execution_count": 51,
   "metadata": {},
   "outputs": [
    {
     "name": "stdout",
     "output_type": "stream",
     "text": [
      "max =  0.9999996367889004\n",
      "min =  1.5496004267534502e-06\n",
      "median =  0.500422198970153\n",
      "percentile =  0.9001765340710965\n",
      "False\n",
      "True\n"
     ]
    }
   ],
   "source": [
    "# Other Aggr. functions\n",
    "\n",
    "print(\"max = \", np.max(arr))\n",
    "print(\"min = \", np.min(arr))\n",
    "print(\"median = \", np.mean(arr))\n",
    "print(\"percentile = \", np.percentile(arr, 90))\n",
    "\n",
    "print(np.any(arr > 1))\n",
    "print(np.all(arr > 0)) # range(0, 1)"
   ]
  },
  {
   "cell_type": "code",
   "execution_count": 55,
   "metadata": {},
   "outputs": [
    {
     "name": "stdout",
     "output_type": "stream",
     "text": [
      "[[3 6 6 0]\n",
      " [9 8 4 7]\n",
      " [0 0 7 1]]\n",
      "51\n",
      "[12 14 17  8]\n",
      "[15 28  8]\n"
     ]
    }
   ],
   "source": [
    "# Multi dimensional aggregates\n",
    "\n",
    "np.random.seed(5)\n",
    "arr = np.random.randint(10, size = (3,4))\n",
    "print(arr)\n",
    "\n",
    "print(np.sum(arr))\n",
    "print(np.sum(arr, axis = 0))\n",
    "print(np.sum(arr, axis = 1))"
   ]
  }
 ],
 "metadata": {
  "kernelspec": {
   "display_name": "Python 3",
   "language": "python",
   "name": "python3"
  },
  "language_info": {
   "codemirror_mode": {
    "name": "ipython",
    "version": 3
   },
   "file_extension": ".py",
   "mimetype": "text/x-python",
   "name": "python",
   "nbconvert_exporter": "python",
   "pygments_lexer": "ipython3",
   "version": "3.7.6"
  }
 },
 "nbformat": 4,
 "nbformat_minor": 4
}
