{
 "cells": [
  {
   "cell_type": "markdown",
   "metadata": {},
   "source": [
    "# Two Components of Feature Engineering\n",
    "\n",
    " - 특징 추출(feature extraction)\n",
    "     - 원시 데이터의 다양한 조작을 통해 모델 학습에 적합한 특징들을 생성\n",
    "         - 조합: Ex. 부피 = 가로 X 세로 X 높이\n",
    "         - 집계: 피보팅\n",
    "         - 변환: binning, 파싱, 토그나이징, 인코딩, 로그변환, 스케일링 등\n",
    " \n",
    " - 특징 선택(feature selection)\n",
    "     - 모델이 해결하고자 하는 문제와 상관없는 특징 = 노이즈\n",
    "     - 전체 특징 집합 중에서 특정 모델 학습에 필요한 부분 집합을 선택\n",
    "     "
   ]
  },
  {
   "cell_type": "code",
   "execution_count": 11,
   "metadata": {},
   "outputs": [
    {
     "name": "stdout",
     "output_type": "stream",
     "text": [
      "                     CO(GT)  PT08.S1(CO)  PT08.S2(NMHC)  NOx(GT)  \\\n",
      "Datetime                                                           \n",
      "2004-03-10 18:00:00     2.6       1360.0         1046.0    166.0   \n",
      "2004-03-10 19:00:00     2.0       1292.0          955.0    103.0   \n",
      "2004-03-10 20:00:00     2.2       1402.0          939.0    131.0   \n",
      "2004-03-10 21:00:00     2.2       1376.0          948.0    172.0   \n",
      "2004-03-10 22:00:00     1.6       1272.0          836.0    131.0   \n",
      "\n",
      "                     PT08.S3(NOx)  NO2(GT)  PT08.S4(NO2)  PT08.S5(O3)    RH  \\\n",
      "Datetime                                                                      \n",
      "2004-03-10 18:00:00        1056.0    113.0        1692.0       1268.0  48.9   \n",
      "2004-03-10 19:00:00        1174.0     92.0        1559.0        972.0  47.7   \n",
      "2004-03-10 20:00:00        1140.0    114.0        1555.0       1074.0  54.0   \n",
      "2004-03-10 21:00:00        1092.0    122.0        1584.0       1203.0  60.0   \n",
      "2004-03-10 22:00:00        1205.0    116.0        1490.0       1110.0  59.6   \n",
      "\n",
      "                         AH  C6H6(GT)  \n",
      "Datetime                               \n",
      "2004-03-10 18:00:00  0.7578      11.9  \n",
      "2004-03-10 19:00:00  0.7255       9.4  \n",
      "2004-03-10 20:00:00  0.7502       9.0  \n",
      "2004-03-10 21:00:00  0.7867       9.2  \n",
      "2004-03-10 22:00:00  0.7888       6.5  \n",
      "Using matplotlib backend: Qt5Agg\n"
     ]
    }
   ],
   "source": [
    "import pandas as pd\n",
    "import numpy as np\n",
    "from datetime import datetime\n",
    "\n",
    "def parser(x):\n",
    "    return datetime.strptime(x, '%Y-%m-%d %H:%M:%S')\n",
    "\n",
    "input_file = './data/AirQualityUCI_refined.csv'\n",
    "\n",
    "df = pd.read_csv(input_file,\n",
    "                 index_col=[0],\n",
    "                 parse_dates=[0],\n",
    "                 date_parser=parser)\n",
    "print(df.head())\n",
    "\n",
    "# Visualization setup\n",
    "%matplotlib\n",
    "from matplotlib import pyplot as plt\n",
    "import seaborn as sns\n",
    "sns.set()\n",
    "\n",
    "%config InlineBackend.figure_format = 'svg'\n",
    "plt.rcParams['figure.figsize'] = [10, 5]\n",
    "plt.ion() # enable the interactive mode\n",
    "\n"
   ]
  },
  {
   "cell_type": "markdown",
   "metadata": {},
   "source": [
    "# Binning\n",
    "\n",
    " - 구간화(binning): 특정 변수를 범주형 변수로 변환\n",
    "     - 목적: 강건한(robust) 모델 생성, 과적합(overwriting) 방지\n",
    "     - 수치형/범주형 변수에 모두 적용 가능\n",
    "         - 수치형 Ex. 소득 -> 소득 분위, 나이 -> 연령대\n",
    "         - 범주형 Ex. 양산동, 세교동 -> 오산시, 진안동, 봉담읍 -> 화성시\n",
    " - 구간화 예시: 3학년 11반 학생들의 키\n",
    "     - X = {155, 167, 173, 170, 171, 160, 275} -> 275는 잘못 입력한 값(이상치)\n",
    "     - 평균 : 181.6cm\n",
    "     - 이상치가 일정 수준 이상으로 측정될 경우 평균은 데이터를 대표하지 못함\n",
    "     - 구간화 결과\n",
    "         - x < 160 : 1명\n",
    "         - 160 < x < 170 : 2명\n",
    "         - 180 < x : 1명\n",
    "         \n",
    "         - 구간화를 통하여 얻어진 결과가 평균보다 데이터를 잘 설명함."
   ]
  },
  {
   "cell_type": "code",
   "execution_count": 12,
   "metadata": {},
   "outputs": [],
   "source": [
    "# Interpolate the 'CO(GT)' column\n",
    "co = df['CO(GT)'].copy()\n",
    "co.interpolate(inplace = True)"
   ]
  },
  {
   "cell_type": "code",
   "execution_count": 19,
   "metadata": {},
   "outputs": [],
   "source": [
    "\"\"\"\n",
    "Binning\n",
    "\"\"\"\n",
    "\n",
    "max_val = co.max()\n",
    "min_val = co.min()\n",
    "# print(max_val, min_val)"
   ]
  },
  {
   "cell_type": "code",
   "execution_count": 20,
   "metadata": {},
   "outputs": [],
   "source": [
    "# Make interval values\n",
    "bins = np.linspace(min_val, max_val, 6)"
   ]
  },
  {
   "cell_type": "code",
   "execution_count": 24,
   "metadata": {},
   "outputs": [],
   "source": [
    "# labels for each bin\n",
    "labels = ['0<=x<2.38', '2.38<=x<4.76', '4.76<=x<7.14','7.14<=x<9.52', '9.52<=x<11.9']"
   ]
  },
  {
   "cell_type": "code",
   "execution_count": 30,
   "metadata": {},
   "outputs": [],
   "source": [
    "# Convert the numerical values into the categorical values\n",
    "df['bins'] = pd.cut(co, bins = bins, labels = labels, include_lowest = True)"
   ]
  },
  {
   "cell_type": "code",
   "execution_count": 28,
   "metadata": {},
   "outputs": [
    {
     "data": {
      "text/plain": [
       "Datetime\n",
       "2004-03-10 18:00:00    2.38<=x<4.76\n",
       "2004-03-10 19:00:00       0<=x<2.38\n",
       "2004-03-10 20:00:00       0<=x<2.38\n",
       "2004-03-10 21:00:00       0<=x<2.38\n",
       "2004-03-10 22:00:00       0<=x<2.38\n",
       "                           ...     \n",
       "2005-04-04 10:00:00    2.38<=x<4.76\n",
       "2005-04-04 11:00:00    2.38<=x<4.76\n",
       "2005-04-04 12:00:00    2.38<=x<4.76\n",
       "2005-04-04 13:00:00       0<=x<2.38\n",
       "2005-04-04 14:00:00       0<=x<2.38\n",
       "Name: bins, Length: 9357, dtype: category\n",
       "Categories (5, object): [0<=x<2.38 < 2.38<=x<4.76 < 4.76<=x<7.14 < 7.14<=x<9.52 < 9.52<=x<11.9]"
      ]
     },
     "execution_count": 28,
     "metadata": {},
     "output_type": "execute_result"
    }
   ],
   "source": [
    "# print bins\n",
    "df['bins']"
   ]
  },
  {
   "cell_type": "code",
   "execution_count": 36,
   "metadata": {},
   "outputs": [],
   "source": [
    "# Visualize the gistogram of bins\n",
    "plt.hist(df['bins'], bins = 5)\n",
    "plt.show()"
   ]
  },
  {
   "cell_type": "markdown",
   "metadata": {},
   "source": [
    "# Log Transform\n",
    "\n",
    " - 로그 변환: 우편향된(right-skewed) 데이터 분포를 정규 분포에 가깝게 변환\n",
    "     - 이상치에 강건한 모델 생성\n",
    "     - 정규 분포에 적합한 알고리즘, 모수적 방법 적용이 용이해짐."
   ]
  },
  {
   "cell_type": "code",
   "execution_count": 39,
   "metadata": {},
   "outputs": [
    {
     "data": {
      "text/plain": [
       "<matplotlib.axes._subplots.AxesSubplot at 0x14c903c9848>"
      ]
     },
     "execution_count": 39,
     "metadata": {},
     "output_type": "execute_result"
    }
   ],
   "source": [
    "\"\"\"\n",
    "Log Transform\n",
    "\"\"\"\n",
    "\n",
    "# Distribution of original data\n",
    "# 0인 경우에 0 divide by zero 발생 -> log계산 시\n",
    "# df.min()\n",
    "\n",
    "sns.distplot(df['PT08.S3(NOx)'])"
   ]
  },
  {
   "cell_type": "code",
   "execution_count": 40,
   "metadata": {},
   "outputs": [],
   "source": [
    "# Calculate natural Logarithm on 'PT08.S3(NOx)' column\n",
    "df['log'] = np.log10(df['PT08.S3(NOx)'])"
   ]
  },
  {
   "cell_type": "code",
   "execution_count": 46,
   "metadata": {},
   "outputs": [
    {
     "data": {
      "text/plain": [
       "CO(GT)                   0\n",
       "PT08.S1(CO)            647\n",
       "PT08.S2(NMHC)          383\n",
       "NOx(GT)                  2\n",
       "PT08.S3(NOx)           322\n",
       "NO2(GT)                  2\n",
       "PT08.S4(NO2)           551\n",
       "PT08.S5(O3)            221\n",
       "RH                     9.2\n",
       "AH                  0.1847\n",
       "C6H6(GT)                 0\n",
       "bins             0<=x<2.38\n",
       "log                2.50786\n",
       "dtype: object"
      ]
     },
     "execution_count": 46,
     "metadata": {},
     "output_type": "execute_result"
    }
   ],
   "source": [
    "# Min values each columns\n",
    "df.min()"
   ]
  },
  {
   "cell_type": "code",
   "execution_count": 47,
   "metadata": {},
   "outputs": [],
   "source": [
    "# Distribution after log transform\n",
    "sns.distplot(df['log'])\n",
    "plt.xlabel('log(NOx)')\n",
    "plt.show()"
   ]
  },
  {
   "cell_type": "markdown",
   "metadata": {},
   "source": [
    "# Encoding\n",
    "\n",
    " - 인코딩: 범주형 변수를 수치형 변수로 변환\n",
    "     - 대부분의 모델/알고리즘은 수치형 데이털르 입력 받음."
   ]
  },
  {
   "cell_type": "code",
   "execution_count": 73,
   "metadata": {},
   "outputs": [],
   "source": [
    "\"\"\"\n",
    "One-hot Encoding\n",
    "\"\"\"\n",
    "# make a dataset\n",
    "\n",
    "emp_id = pd.Series([1, 2, 3, 4, 5])\n",
    "gender = pd.Series(['Male', 'Female', 'Female', 'Male', 'Female'])\n",
    "remarks = pd.Series(['Nice', 'Good', 'Great','Great','Nice'])\n",
    "\n",
    "df_emp = pd.DataFrame()\n",
    "df_emp['emp_id'] = emp_id\n",
    "df_emp['gender'] = gender\n",
    "df_emp['remarks'] = remarks"
   ]
  },
  {
   "cell_type": "code",
   "execution_count": 74,
   "metadata": {},
   "outputs": [
    {
     "data": {
      "text/plain": [
       "array(['Nice', 'Good', 'Great'], dtype=object)"
      ]
     },
     "execution_count": 74,
     "metadata": {},
     "output_type": "execute_result"
    }
   ],
   "source": [
    "# Print unique values for each column\n",
    "\n",
    "df_emp['emp_id'].unique()\n",
    "df_emp['gender'].unique()\n",
    "df_emp['remarks'].unique()"
   ]
  },
  {
   "cell_type": "code",
   "execution_count": 75,
   "metadata": {},
   "outputs": [
    {
     "data": {
      "text/html": [
       "<div>\n",
       "<style scoped>\n",
       "    .dataframe tbody tr th:only-of-type {\n",
       "        vertical-align: middle;\n",
       "    }\n",
       "\n",
       "    .dataframe tbody tr th {\n",
       "        vertical-align: top;\n",
       "    }\n",
       "\n",
       "    .dataframe thead th {\n",
       "        text-align: right;\n",
       "    }\n",
       "</style>\n",
       "<table border=\"1\" class=\"dataframe\">\n",
       "  <thead>\n",
       "    <tr style=\"text-align: right;\">\n",
       "      <th></th>\n",
       "      <th>emp_id</th>\n",
       "      <th>gender_Female</th>\n",
       "      <th>gender_Male</th>\n",
       "      <th>remarks_Good</th>\n",
       "      <th>remarks_Great</th>\n",
       "      <th>remarks_Nice</th>\n",
       "    </tr>\n",
       "  </thead>\n",
       "  <tbody>\n",
       "    <tr>\n",
       "      <th>0</th>\n",
       "      <td>1</td>\n",
       "      <td>0</td>\n",
       "      <td>1</td>\n",
       "      <td>0</td>\n",
       "      <td>0</td>\n",
       "      <td>1</td>\n",
       "    </tr>\n",
       "    <tr>\n",
       "      <th>1</th>\n",
       "      <td>2</td>\n",
       "      <td>1</td>\n",
       "      <td>0</td>\n",
       "      <td>1</td>\n",
       "      <td>0</td>\n",
       "      <td>0</td>\n",
       "    </tr>\n",
       "    <tr>\n",
       "      <th>2</th>\n",
       "      <td>3</td>\n",
       "      <td>1</td>\n",
       "      <td>0</td>\n",
       "      <td>0</td>\n",
       "      <td>1</td>\n",
       "      <td>0</td>\n",
       "    </tr>\n",
       "    <tr>\n",
       "      <th>3</th>\n",
       "      <td>4</td>\n",
       "      <td>0</td>\n",
       "      <td>1</td>\n",
       "      <td>0</td>\n",
       "      <td>1</td>\n",
       "      <td>0</td>\n",
       "    </tr>\n",
       "    <tr>\n",
       "      <th>4</th>\n",
       "      <td>5</td>\n",
       "      <td>1</td>\n",
       "      <td>0</td>\n",
       "      <td>0</td>\n",
       "      <td>0</td>\n",
       "      <td>1</td>\n",
       "    </tr>\n",
       "  </tbody>\n",
       "</table>\n",
       "</div>"
      ],
      "text/plain": [
       "   emp_id  gender_Female  gender_Male  remarks_Good  remarks_Great  \\\n",
       "0       1              0            1             0              0   \n",
       "1       2              1            0             1              0   \n",
       "2       3              1            0             0              1   \n",
       "3       4              0            1             0              1   \n",
       "4       5              1            0             0              0   \n",
       "\n",
       "   remarks_Nice  \n",
       "0             1  \n",
       "1             0  \n",
       "2             0  \n",
       "3             0  \n",
       "4             1  "
      ]
     },
     "execution_count": 75,
     "metadata": {},
     "output_type": "execute_result"
    }
   ],
   "source": [
    "# One-hot encoding the categorial values\n",
    "df_emp_encoded = pd.get_dummies(df_emp, columns = ['gender', 'remarks'])\n",
    "df_emp_encoded"
   ]
  },
  {
   "cell_type": "markdown",
   "metadata": {},
   "source": [
    "# Label Encoding\n",
    "\n",
    " - 레이블 인코딩: 개별 범주를 특정 숫자 값(레이블)으로 표현\n",
    "     - 순서형(ordinal) 데이터에 적용할 경우 데이터 순서, 순위 등을 보존 가능\n",
    "    "
   ]
  },
  {
   "cell_type": "markdown",
   "metadata": {},
   "source": [
    "# One-hot Encoding\n",
    "\n",
    " - 원핫 인코딩: 개별 범주를 특정 이진 백터(binary vector)로 표현\n",
    "     - 범주 별로 인덱스를 할당\n",
    "         - 범주에 해당되는 인덱스의 값: 1\n",
    "         - 그 외의 나머지 값: 0\n",
    "     - 명목형 데이터 인코딩에 적합"
   ]
  },
  {
   "cell_type": "markdown",
   "metadata": {},
   "source": [
    "# Scaling\n",
    "\n",
    " - 일반적으로 변수들은 서로 다른 값 범위(스케일)를 가짐\n",
    "     - Ex. 나이와 연소득\n",
    "     - 모델은 기본적으로 변수 별 스케일을 고려하지 않음 -> 모델 학습 수렴 및 과적합 문제\n",
    " - 스케일링: 모든 변수들이 비슷한 값 범위를 갖도록 변환하는 작업\n",
    "     - 정규화(normalization)\n",
    "     - 표준화(standardization)"
   ]
  },
  {
   "cell_type": "markdown",
   "metadata": {},
   "source": [
    "# Scaling: Normalization\n",
    "\n",
    " - 정규화: 모든 변수들을 0~1 사이의 값으로 스케일링\n",
    "     - 대표적인 방법: min-max normalization(최대-최소 정규화)\n",
    "     - 변수의 분포에는 변화가 없으므로, 이상치의 영향은 그대로 유지\n",
    "     -> 정규화 전에 이상치 처리를 먼저 수행하는 것이 권장됨."
   ]
  },
  {
   "cell_type": "code",
   "execution_count": 77,
   "metadata": {},
   "outputs": [
    {
     "data": {
      "text/plain": [
       "<matplotlib.legend.Legend at 0x14c92084208>"
      ]
     },
     "execution_count": 77,
     "metadata": {},
     "output_type": "execute_result"
    }
   ],
   "source": [
    "\"\"\"\n",
    "Normalization\n",
    "\"\"\"\n",
    "\n",
    "# Visualize two columns of different scale\n",
    "plt.plot(df['CO(GT)'], label = 'CO')\n",
    "plt.plot(df['PT08.S3(NOx)'], label = 'NMHC')\n",
    "plt.legend(loc = 'best')"
   ]
  },
  {
   "cell_type": "code",
   "execution_count": 78,
   "metadata": {},
   "outputs": [
    {
     "data": {
      "text/plain": [
       "Datetime\n",
       "2004-03-10 18:00:00    0.218487\n",
       "2004-03-10 19:00:00    0.168067\n",
       "2004-03-10 20:00:00    0.184874\n",
       "2004-03-10 21:00:00    0.184874\n",
       "2004-03-10 22:00:00    0.134454\n",
       "                         ...   \n",
       "2005-04-04 10:00:00    0.260504\n",
       "2005-04-04 11:00:00    0.201681\n",
       "2005-04-04 12:00:00    0.201681\n",
       "2005-04-04 13:00:00    0.176471\n",
       "2005-04-04 14:00:00    0.184874\n",
       "Name: CO_Norm, Length: 9357, dtype: float64"
      ]
     },
     "execution_count": 78,
     "metadata": {},
     "output_type": "execute_result"
    }
   ],
   "source": [
    "# Normalize the 'CO(GT)' column\n",
    "\n",
    "co = df['CO(GT)'].copy()\n",
    "co_max = co.max()\n",
    "co_min = co.min()\n",
    "\n",
    "df['CO_Norm'] = (co - co_min) / (co_max - co_min)\n",
    "df['CO_Norm']"
   ]
  },
  {
   "cell_type": "code",
   "execution_count": 81,
   "metadata": {},
   "outputs": [
    {
     "data": {
      "text/plain": [
       "Datetime\n",
       "2004-03-10 18:00:00    0.362097\n",
       "2004-03-10 19:00:00    0.312398\n",
       "2004-03-10 20:00:00    0.303659\n",
       "2004-03-10 21:00:00    0.308575\n",
       "2004-03-10 22:00:00    0.247406\n",
       "                         ...   \n",
       "2005-04-04 10:00:00    0.392135\n",
       "2005-04-04 11:00:00    0.351720\n",
       "2005-04-04 12:00:00    0.371382\n",
       "2005-04-04 13:00:00    0.315674\n",
       "2005-04-04 14:00:00    0.362643\n",
       "Name: NMHC_Norm, Length: 9357, dtype: float64"
      ]
     },
     "execution_count": 81,
     "metadata": {},
     "output_type": "execute_result"
    }
   ],
   "source": [
    "# Normalie the 'PT08.S2(NMHC)' column\n",
    "nmhc = df['PT08.S2(NMHC)'].copy()\n",
    "nmhc_max = nmhc.max()\n",
    "nmhc_min = nmhc.min()\n",
    "\n",
    "df['NMHC_Norm'] = (nmhc - nmhc_min) / (nmhc_max - nmhc_min)\n",
    "df['NMHC_Norm']"
   ]
  },
  {
   "cell_type": "code",
   "execution_count": 82,
   "metadata": {},
   "outputs": [
    {
     "data": {
      "text/plain": [
       "<matplotlib.legend.Legend at 0x14c92037948>"
      ]
     },
     "execution_count": 82,
     "metadata": {},
     "output_type": "execute_result"
    }
   ],
   "source": [
    "# Visualized normallized columns\n",
    "\n",
    "plt.plot(df['CO_Norm'], label = 'CO (normalized)')\n",
    "plt.plot(df['NMHC_Norm'], label = 'NMHC (normalized)')\n",
    "plt.legend(loc = 'best')"
   ]
  },
  {
   "cell_type": "code",
   "execution_count": null,
   "metadata": {},
   "outputs": [],
   "source": []
  },
  {
   "cell_type": "markdown",
   "metadata": {},
   "source": [
    "# Scaling: Standardization\n",
    "\n",
    " - 표준화(또는 Z-score.정규화): 표준편차를 기반으로 스케일링 수행\n",
    "     - 데이터가 정규분포를 따른다고 가정하고, 분포가 0을 중심으로 하고 표준편차가 1이 되도록 스케일링 수행\n",
    "     - 변수마다 표준편차가 다를 경우 스케일링 결과(값 범위)가 다를 수 있음\n",
    "     - 이상치에 영향을 덜 받는 스케일링 방법"
   ]
  },
  {
   "cell_type": "markdown",
   "metadata": {},
   "source": [
    "# Scaling: Others\n",
    "\n",
    " - 그 외의 스케일링 기법\n",
    "     - Max Abs Scaler\n",
    "     - Robust Scaler\n",
    "     - Quantile Tansformer Scaler\n",
    "     - Power Tansformer Scaler\n",
    "     - Unit Vector Scaler"
   ]
  },
  {
   "cell_type": "markdown",
   "metadata": {},
   "source": [
    "# Grouping Operations\n",
    "\n",
    " - 깔끔한 데이터(tidy data): 데이터 분석 / 머신러닝에 적합한 데이터의 형태"
   ]
  },
  {
   "cell_type": "markdown",
   "metadata": {},
   "source": [
    "# Grouping Operations: Pivot Table\n",
    "\n",
    " - 피벗 테이블: 개별 데이터 항목들의 집계 및 테이블 재구조화를 통해 데이터의 요약된(그룹호된) 결과를 나타내는 테이블\n",
    "     - 트랜잭션 데이터(예: 계좌이체 내역)를 tidy 형태의 데이터로 변환할 때 활용"
   ]
  },
  {
   "cell_type": "markdown",
   "metadata": {},
   "source": [
    "# feature Split\n",
    "\n",
    " - 특징 분할: 복합적인 값으로 구성된 특징 값을 여러개의 값으로 분할\n",
    "     - Ex. 정제되지 않은 문자열의 토그나이징(tokenizing)\n",
    "     "
   ]
  }
 ],
 "metadata": {
  "kernelspec": {
   "display_name": "Python 3",
   "language": "python",
   "name": "python3"
  },
  "language_info": {
   "codemirror_mode": {
    "name": "ipython",
    "version": 3
   },
   "file_extension": ".py",
   "mimetype": "text/x-python",
   "name": "python",
   "nbconvert_exporter": "python",
   "pygments_lexer": "ipython3",
   "version": "3.7.6"
  }
 },
 "nbformat": 4,
 "nbformat_minor": 4
}
