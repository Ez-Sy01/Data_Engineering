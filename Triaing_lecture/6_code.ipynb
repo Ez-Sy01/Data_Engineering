{
 "cells": [
  {
   "cell_type": "markdown",
   "metadata": {},
   "source": [
    "- numpy 배열 조작 유형\n",
    "1. 배열 속성 지정: 배열의 크기, 형상(shape / dimension), 메모리 소비량, 데이터 타입을 결정\n",
    "2. 배열 인덱싱: 배열의 개별 원소에 접근 및 값 할당\n",
    "3. 배열 슬라이싱: 배열의 부분집합을 계산\n",
    "4. 배열 재구조화: 배열의 형상을 변경\n",
    "5. 배열 결합 및 분할"
   ]
  },
  {
   "cell_type": "markdown",
   "metadata": {},
   "source": [
    "Creating an array\n",
    "\n",
    "np.arange(start, stop, step) : 특정 범위의 정수 배열 생성\n",
    "\n",
    "- start: 범위 시작 값(포함), 디폴트 값:0\n",
    "- stop: 범위 마지막 값(제외)\n",
    "- step: 간격, 디폴트 값: 1"
   ]
  },
  {
   "cell_type": "markdown",
   "metadata": {},
   "source": [
    "난수(random number) 배열 생성하기\n",
    " - np.random.seed(num): 똑같은 난수 배열 생성을 위한 시드 값\n",
    " - np.random.randint(high, size): 정수로 구성된 난수 배열 생성"
   ]
  },
  {
   "cell_type": "markdown",
   "metadata": {},
   "source": [
    "Numpy Array Attributes\n",
    "\n",
    "Numpy 배열 속성\n",
    " - arr.ndim: 차원 개수(num of dimension)\n",
    " - arr.shape: 배열의 크기\n",
    " - arr.size: 전체 배열의 크기(배열 원소 개수)\n",
    " - arr.dtype: 배열 데이터 타입\n",
    " - arr.itemsize: 배열 원소 별 메모리 크기\n",
    " - arr.nbytes: 전체 배열 메모리 크기 (nbytes = itemsize * size)"
   ]
  },
  {
   "cell_type": "markdown",
   "metadata": {},
   "source": [
    "Array Slicing: Accessing Subarrays\n",
    "\n",
    "- 배열 슬라이싱: 배열의 부분집합을 선택\n",
    "    - arr[start:stop:step]"
   ]
  },
  {
   "cell_type": "markdown",
   "metadata": {},
   "source": [
    "Multi-dimensional Subarrays\n",
    "\n",
    "- 다차원 배열 슬라이싱\n",
    "    - Ex. 2차원배열: arr[start1:stop1:step1, start2:stop2:step2]"
   ]
  },
  {
   "cell_type": "markdown",
   "metadata": {},
   "source": [
    "Subarrays as Views\n",
    " - 배열 슬라이스는 복사본(copy)이 아닌 뷰(view)\n",
    "     - 배열 슬라이스 값을 변경 => 원본 배열 값도 변경됨(리스트와 다름)"
   ]
  },
  {
   "cell_type": "markdown",
   "metadata": {},
   "source": [
    "Reshaping of Arrays\n",
    "\n",
    "- 배열의 형상(shape) = 행렬(배열)의 차원(dimension)\n",
    "    - 배열의 형상을 변경(재구조화)하여 처리하는 경우가 많음(Ex. 머신러닝/딥러닝)\n",
    "- arr.reshape(): 배열 형상 변경 메서드\n",
    "    - 변경 전/후의 배열 크기가 동일해야함."
   ]
  },
  {
   "cell_type": "markdown",
   "metadata": {},
   "source": [
    "Array Concatenation\n",
    "\n",
    "- 배열 연결: 두개 이상의 배열을 하나로 결합\n",
    "    - np.concatenate(): 배열 연결 메서드"
   ]
  },
  {
   "cell_type": "markdown",
   "metadata": {},
   "source": [
    "- np.vstack(): 종(vertical) 방향으로 배열 연결\n",
    "- np.hstack(): 횡(horizontal) 방향으로 배열 연결"
   ]
  },
  {
   "cell_type": "markdown",
   "metadata": {},
   "source": [
    "Array Splitting\n",
    "\n",
    "- 배열 분할: 배열을 두개 이상의 부분 배열로 나누기\n",
    "    - np.split(),np.vsplit(), np.hsplit(): 배열 분할 메서드"
   ]
  },
  {
   "cell_type": "markdown",
   "metadata": {},
   "source": [
    "- 재구조화의 흔한 패턴: 차원을 추가\n",
    "    - Ex. 1차원 배열(row-vector) => 2차원 행렬(matrix)\n",
    "- np.newaxis: 배열의 추가 차원"
   ]
  },
  {
   "cell_type": "code",
   "execution_count": 19,
   "metadata": {},
   "outputs": [],
   "source": [
    "import numpy as np"
   ]
  },
  {
   "cell_type": "code",
   "execution_count": 20,
   "metadata": {},
   "outputs": [],
   "source": [
    "# arange\n",
    "a = np.arange(1,5,2)"
   ]
  },
  {
   "cell_type": "code",
   "execution_count": 21,
   "metadata": {},
   "outputs": [],
   "source": [
    "# random\n",
    "b = np.random.seed(0) # 이전과 같은 난수 배열을 얻기 위해 시드 설정\n",
    "\n",
    "arr1 = np.random.randint(10, size = 6)\n",
    "arr2 = np.random.randint(10, size = (3,4))\n",
    "arr3 = np.random.randint(10, size = (3,4,5))"
   ]
  },
  {
   "cell_type": "code",
   "execution_count": 29,
   "metadata": {},
   "outputs": [
    {
     "name": "stdout",
     "output_type": "stream",
     "text": [
      "arr2.ndim =  2\n",
      "arr2.shape =  (3, 4)\n",
      "arr2.size =  12\n",
      "arr2.dtype =  int32\n",
      "arr2.itemsize =  4\n",
      "arr2.nbytes =  48\n"
     ]
    }
   ],
   "source": [
    "# Attributes\n",
    "print(\"arr2.ndim = \", arr2.ndim)\n",
    "print(\"arr2.shape = \", arr2.shape) # ***\n",
    "print(\"arr2.size = \", arr2.size) # ***\n",
    "\n",
    "print(\"arr2.dtype = \", arr2.dtype) # ***\n",
    "print(\"arr2.itemsize = \", arr2.itemsize)\n",
    "print(\"arr2.nbytes = \", arr2.nbytes)"
   ]
  },
  {
   "cell_type": "code",
   "execution_count": 32,
   "metadata": {},
   "outputs": [],
   "source": [
    "# Array Slicing: Accessing Subarrays\n",
    "\n",
    "arr = np.array([0,1,2,3,4,5,6,7,8,9])"
   ]
  },
  {
   "cell_type": "code",
   "execution_count": 38,
   "metadata": {},
   "outputs": [
    {
     "name": "stdout",
     "output_type": "stream",
     "text": [
      "[[5 0 3 3 7 9 3 5]\n",
      " [2 4 7 6 8 8 1 6]\n",
      " [7 7 8 1 5 9 8 9]\n",
      " [4 3 0 3 5 0 2 3]\n",
      " [8 1 3 3 3 7 0 1]\n",
      " [9 9 0 4 7 3 2 7]]\n",
      "[[5 0 2]\n",
      " [3 7 0]]\n",
      "[[5 0 3]\n",
      " [2 4 7]]\n"
     ]
    }
   ],
   "source": [
    "# Multi-dimensional Subarrays\n",
    "np.random.seed(0)\n",
    "arr = np.random.randint(10, size = (6,8))\n",
    "\n",
    "print(arr)\n",
    "arr_sub = arr[3:5, 4:7]\n",
    "print(arr_sub)\n",
    "print(arr[:2,:3])"
   ]
  },
  {
   "cell_type": "code",
   "execution_count": 44,
   "metadata": {},
   "outputs": [
    {
     "name": "stdout",
     "output_type": "stream",
     "text": [
      "[[5 0 3 3]\n",
      " [7 9 3 5]\n",
      " [2 4 7 6]] \n",
      "\n",
      "[[5 0]\n",
      " [7 9]] \n",
      "\n",
      "[[99  0  3  3]\n",
      " [ 7  9  3  5]\n",
      " [ 2  4  7  6]]\n"
     ]
    }
   ],
   "source": [
    "\"\"\"\n",
    "Subarrays as no-copy views\n",
    "\"\"\"\n",
    "np.random.seed(0)\n",
    "\n",
    "arr = np.random.randint(10, size = (3,4))\n",
    "print(arr, '\\n')\n",
    "\n",
    "arr_sub = arr[:2, :2] # -arr.copy(): 배열(또는 슬라이스) 복사본 생성\n",
    "print(arr_sub, '\\n')\n",
    "\n",
    "arr_sub[0,0] = 99\n",
    "print(arr)"
   ]
  },
  {
   "cell_type": "code",
   "execution_count": 46,
   "metadata": {},
   "outputs": [
    {
     "name": "stdout",
     "output_type": "stream",
     "text": [
      "[[5 0 3 3]\n",
      " [7 9 3 5]\n",
      " [2 4 7 6]]\n",
      "[[5 0 3 3]\n",
      " [7 9 3 5]\n",
      " [2 4 7 6]]\n"
     ]
    }
   ],
   "source": [
    "# .copy()\n",
    "\n",
    "np.random.seed(0)\n",
    "\n",
    "arr = np.random.randint(10, size = (3,4))\n",
    "print(arr)\n",
    "\n",
    "arr_sub = arr[:2,:2].copy()\n",
    "arr_sub[0,0] = 99\n",
    "print(arr)"
   ]
  },
  {
   "cell_type": "code",
   "execution_count": 52,
   "metadata": {},
   "outputs": [
    {
     "name": "stdout",
     "output_type": "stream",
     "text": [
      "arr.ndim =  1\n",
      "arr.shape =  (3,)\n",
      "[[1 2 3]]\n",
      "[[1]\n",
      " [2]\n",
      " [3]]\n"
     ]
    }
   ],
   "source": [
    "# Reshaping of Arrays - append dimension / np.newaxis\n",
    "arr = np.array([1,2,3])\n",
    "print(\"arr.ndim = \", arr.ndim)\n",
    "print(\"arr.shape = \", arr.shape)\n",
    "\n",
    "arr_new = arr[np.newaxis, :]\n",
    "print(arr_new)\n",
    "arr_new = arr[:, np.newaxis]\n",
    "print(arr_new)"
   ]
  },
  {
   "cell_type": "code",
   "execution_count": 67,
   "metadata": {},
   "outputs": [
    {
     "name": "stdout",
     "output_type": "stream",
     "text": [
      "[[1 2 3 4 5 6 7 8 9]\n",
      " [1 2 3 4 5 6 7 8 9]]\n",
      "[[1 2 3]\n",
      " [1 2 3]\n",
      " [4 5 6]\n",
      " [4 5 6]\n",
      " [7 8 9]\n",
      " [7 8 9]]\n"
     ]
    }
   ],
   "source": [
    "# np.concatenate()\n",
    "\n",
    "arr1 = np.array([[1,2,3],[1,2,3]])\n",
    "arr2 = np.array([[4,5,6],[4,5,6]])\n",
    "arr3 = np.array([[7,8,9],[7,8,9]])\n",
    "\n",
    "arr_total = np.concatenate([arr1,arr2,arr3], axis = 1)\n",
    "print(arr_total)\n",
    "\n",
    "arr_total = np.vstack([arr1,arr2,arr3])\n",
    "print(arr_total)"
   ]
  },
  {
   "cell_type": "code",
   "execution_count": 69,
   "metadata": {},
   "outputs": [
    {
     "name": "stdout",
     "output_type": "stream",
     "text": [
      "[1 2 3] [99 99] [3 2 1]\n"
     ]
    }
   ],
   "source": [
    "\"\"\"\n",
    "np.split()\n",
    "\"\"\"\n",
    "\n",
    "arr = np.array([1,2,3,99,99,3,2,1])\n",
    "arr1, arr2, arr3 = np.split(arr, [3,5])\n",
    "print(arr1, arr2, arr3)"
   ]
  }
 ],
 "metadata": {
  "kernelspec": {
   "display_name": "Python 3",
   "language": "python",
   "name": "python3"
  },
  "language_info": {
   "codemirror_mode": {
    "name": "ipython",
    "version": 3
   },
   "file_extension": ".py",
   "mimetype": "text/x-python",
   "name": "python",
   "nbconvert_exporter": "python",
   "pygments_lexer": "ipython3",
   "version": "3.7.6"
  }
 },
 "nbformat": 4,
 "nbformat_minor": 4
}
