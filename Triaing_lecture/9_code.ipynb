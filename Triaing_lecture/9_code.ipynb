{
 "cells": [
  {
   "cell_type": "markdown",
   "metadata": {},
   "source": [
    "Pandas Objects: Series\n",
    "    \n",
    "    - Pandas 주요 객체\n",
    "        \n",
    "            - Series: 인덱싱된 1차원 배열\n",
    "            - DataFrame: 인덱싱된 2차원 배열(테이블과 비슷함)\n",
    "            - 리스트/딕셔너리 또는 Numpy 배열로부터 생성가능\n",
    "            \n",
    "    - Pandas 객체(Series 또는 DataFrame)의 주요 속성\n",
    "        - values: Pandas 객체의 값들을 Numpy 배열로 변환\n",
    "        - index : 인덱스 값들을 반환\n",
    "\n",
    "Label - based Indexing\n",
    "    \n",
    "    - Numpy(ndarray): 정수형 인덱스(암묵적)\n",
    "        \n",
    "        -[0], [1], [2], ...\n",
    "    \n",
    "    - Pandas(Series, DataFrame): 레이블 기반 인덱스(명시적)\n",
    "\n",
    "Dictionary and Series\n",
    "\n",
    "    - Dictionary: <Key : Value>로 구성되는 파이썬 기본 자료구조\n",
    "        \n",
    "        - 객체 내의 다양한 타입의 Key 정의 가능\n",
    "    \n",
    "    - Series: Key 역할을 하는 레이블 기반 인덱스를 사용\n",
    "    \n",
    "        - 가능한 인덱스 유형: 정수, 실수, 문자열, DateTime 등\n",
    "        - 인덱싱, 슬라이싱을 지원하므로 Dictionary 보다 데이터 조작이 간편\n",
    "        -> Series 는 1차원 배열인 동시에 Dictionary 와 유사한 객체\n",
    "\n",
    "Pandas Objects: DataFrame\n",
    "\n",
    "    - Pandas 주요 객체\n",
    "        - Series: 인덱싱된 1차원 배열\n",
    "        - DataFrame: 인덱싱된 2차원 배열(테이블과 비슷함.)\n",
    "            - 행 인덱스와 열 이름을 가짐\n",
    "            - 인덱스를 공유하는 Series 객체들의 집합으로 볼 수 있음\n",
    "        - 리스트/딕셔너리 또는 Numpy 배열로부터 생성 가능\n",
    "        \n",
    "Indexers\n",
    "    \n",
    "    - 인덱서: Pandas 객체의 명확한 인덱싱/슬라이싱을 지원하는 속성\n",
    "        - 주요 속성 : loc, iloc\n",
    "        \n",
    "    - loc(lable-based locating): 명시적(Ex. 'a','b'인 경우) 인덱스를 참조하는 인덱싱/슬라이싱 수행\n",
    "    \n",
    "Data Manipulation : DataFrame\n",
    "\n",
    "    - DataFrame = 2차원 배열\n",
    "        - 배열값들을 Numpy 배열로 추출, 예: states.values\n",
    "        - 전치행렬(transpose of a matrix) 구하기, 예: states.T\n",
    "        - 슬라이싱(암묵적 인덱싱), 예 states.iloc[:3,:2]\n",
    "        - 슬라이싱(명시적 인덱싱), 예: states.loc[: 'Illinois', : 'pop']"
   ]
  },
  {
   "cell_type": "code",
   "execution_count": 70,
   "metadata": {},
   "outputs": [],
   "source": [
    "import pandas as pd\n",
    "import numpy as np"
   ]
  },
  {
   "cell_type": "code",
   "execution_count": 71,
   "metadata": {},
   "outputs": [],
   "source": [
    "# Display the help document\n",
    "# pd?"
   ]
  },
  {
   "cell_type": "code",
   "execution_count": 72,
   "metadata": {},
   "outputs": [
    {
     "data": {
      "text/plain": [
       "'1.0.1'"
      ]
     },
     "execution_count": 72,
     "metadata": {},
     "output_type": "execute_result"
    }
   ],
   "source": [
    "# print the version of pandas\n",
    "pd.__version__"
   ]
  },
  {
   "cell_type": "code",
   "execution_count": 73,
   "metadata": {},
   "outputs": [
    {
     "name": "stdout",
     "output_type": "stream",
     "text": [
      "0    0.25\n",
      "1    0.50\n",
      "2    0.75\n",
      "3    1.00\n",
      "dtype: float64\n"
     ]
    }
   ],
   "source": [
    "\"\"\"\n",
    "    Pandas Object: Series\n",
    "\"\"\"\n",
    "# create a series from an array\n",
    "ser = pd.Series([0.25,0.5,0.75,1.0]) # constructor method, \n",
    "print(ser)"
   ]
  },
  {
   "cell_type": "code",
   "execution_count": 74,
   "metadata": {},
   "outputs": [
    {
     "name": "stdout",
     "output_type": "stream",
     "text": [
      "[0.25 0.5  0.75 1.  ]\n",
      "RangeIndex(start=0, stop=4, step=1)\n",
      "[0 1 2 3]\n"
     ]
    }
   ],
   "source": [
    "# Two main attributes: 'values' and 'index'\n",
    "arr = ser.values\n",
    "print(arr)\n",
    "\n",
    "ind = ser.index\n",
    "print(ind)\n",
    "print(ind.values)"
   ]
  },
  {
   "cell_type": "code",
   "execution_count": 75,
   "metadata": {},
   "outputs": [
    {
     "name": "stdout",
     "output_type": "stream",
     "text": [
      "a    0.25\n",
      "b    0.50\n",
      "c    0.75\n",
      "d    1.00\n",
      "dtype: float64\n",
      "0.25\n"
     ]
    }
   ],
   "source": [
    "# Label - based Indexing\n",
    "\n",
    "ser = pd.Series([0.25,0.5,0.75,1.0], index = ['a','b','c','d'])\n",
    "print(ser)\n",
    "\n",
    "print(ser['a'])"
   ]
  },
  {
   "cell_type": "code",
   "execution_count": 76,
   "metadata": {},
   "outputs": [
    {
     "name": "stdout",
     "output_type": "stream",
     "text": [
      "California    383\n",
      "Texas         264\n",
      "New York      196\n",
      "Florida       195\n",
      "Illinois      128\n",
      "dtype: int64\n"
     ]
    }
   ],
   "source": [
    "\"\"\"\n",
    "Dictionary and Series\n",
    "\"\"\"\n",
    "population_dict = {'California' : 383,\n",
    "                  'Texas' : 264,\n",
    "                  'New York' : 196,\n",
    "                  'Florida' : 195,\n",
    "                  'Illinois' : 128}\n",
    "population = pd.Series(population_dict)\n",
    "print(population)"
   ]
  },
  {
   "cell_type": "code",
   "execution_count": 77,
   "metadata": {},
   "outputs": [
    {
     "name": "stdout",
     "output_type": "stream",
     "text": [
      "California    42\n",
      "Texas         69\n",
      "New York      14\n",
      "Florida       17\n",
      "Illinois      14\n",
      "dtype: int64\n"
     ]
    }
   ],
   "source": [
    "\"\"\"\n",
    "Pandas object : DataFrame\n",
    "\"\"\"\n",
    "\n",
    "area_dict = {'California' : 42,\n",
    "            'Texas' : 69,\n",
    "            'New York' : 14,\n",
    "            'Florida' : 17,\n",
    "            'Illinois' : 14}\n",
    "area = pd.Series(area_dict)\n",
    "print(area)"
   ]
  },
  {
   "cell_type": "code",
   "execution_count": 78,
   "metadata": {},
   "outputs": [
    {
     "name": "stdout",
     "output_type": "stream",
     "text": [
      "            population  area\n",
      "California         383    42\n",
      "Texas              264    69\n",
      "New York           196    14\n",
      "Florida            195    17\n",
      "Illinois           128    14\n",
      "Index(['California', 'Texas', 'New York', 'Florida', 'Illinois'], dtype='object')\n",
      "Index(['population', 'area'], dtype='object')\n"
     ]
    }
   ],
   "source": [
    "# Construct a DataFrame containing 'population' and 'area' Sereis\n",
    "\n",
    "states = pd.DataFrame({'population' : population , 'area' : area})\n",
    "print(states)\n",
    "print(states.index)\n",
    "print(states.columns)"
   ]
  },
  {
   "cell_type": "code",
   "execution_count": 79,
   "metadata": {},
   "outputs": [
    {
     "name": "stdout",
     "output_type": "stream",
     "text": [
      "[[0.04214752 0.06507402]\n",
      " [0.10624689 0.02525177]\n",
      " [0.7857794  0.5450797 ]]\n",
      "        foo       bar\n",
      "a  0.042148  0.065074\n",
      "b  0.106247  0.025252\n",
      "c  0.785779  0.545080\n"
     ]
    }
   ],
   "source": [
    "# Construct a DataFrame from a 2D Numpy array\n",
    "\n",
    "arr = np.random.rand(3,2)\n",
    "print(arr)\n",
    "df = pd.DataFrame(arr, columns = ['foo', 'bar'], index = ['a','b','c'])\n",
    "print(df)"
   ]
  },
  {
   "cell_type": "code",
   "execution_count": 80,
   "metadata": {},
   "outputs": [
    {
     "name": "stdout",
     "output_type": "stream",
     "text": [
      "a    0.25\n",
      "b    0.50\n",
      "c    0.75\n",
      "d    1.00\n",
      "dtype: float64\n",
      "True\n",
      "False\n",
      "Index(['a', 'b', 'c', 'd'], dtype='object')\n",
      "Index(['a', 'b', 'c', 'd'], dtype='object')\n"
     ]
    }
   ],
   "source": [
    "\"\"\"\n",
    "Sereis object manipulation: dictionary - style\n",
    "\"\"\"\n",
    "\n",
    "ser = pd.Series([0.25,0.5,0.75,1.0], index = ['a','b','c','d'])\n",
    "print(ser)\n",
    "\n",
    "print('a' in ser) # key 중에서 'a'를 찾음\n",
    "print(0.25 in ser)\n",
    "\n",
    "print(ser.keys())\n",
    "print(ser.index)"
   ]
  },
  {
   "cell_type": "code",
   "execution_count": 81,
   "metadata": {},
   "outputs": [
    {
     "name": "stdout",
     "output_type": "stream",
     "text": [
      "Index(['a', 'b', 'c', 'd'], dtype='object')\n",
      "a    0.125\n",
      "b    0.500\n",
      "c    0.750\n",
      "d    1.000\n",
      "e    1.250\n",
      "dtype: float64\n"
     ]
    }
   ],
   "source": [
    "\"\"\"\n",
    "Series object manipulation : array - style\n",
    "\"\"\"\n",
    "\n",
    "print(ser.keys())\n",
    "ser['e'] = 1.25\n",
    "ser['a'] = 0.125\n",
    "print(ser)"
   ]
  },
  {
   "cell_type": "code",
   "execution_count": 82,
   "metadata": {},
   "outputs": [
    {
     "name": "stdout",
     "output_type": "stream",
     "text": [
      "California    42\n",
      "Texas         69\n",
      "New York      14\n",
      "Florida       17\n",
      "Illinois      14\n",
      "Name: area, dtype: int64\n",
      "California    42\n",
      "Texas         69\n",
      "New York      14\n",
      "Florida       17\n",
      "Illinois      14\n",
      "Name: area, dtype: int64\n",
      "            population  area    density\n",
      "California         383    42   9.119048\n",
      "Texas              264    69   3.826087\n",
      "New York           196    14  14.000000\n",
      "Florida            195    17  11.470588\n",
      "Illinois           128    14   9.142857\n"
     ]
    }
   ],
   "source": [
    "\"\"\"\n",
    "DataFrame obejct manipulation\n",
    "\"\"\"\n",
    "print(states.area) # column 이름이 area가 아닌 num of area인 경우 안돌아감.\n",
    "print(states['area'])\n",
    "\n",
    "states['density'] = states['population'] / states['area']\n",
    "print(states)"
   ]
  },
  {
   "cell_type": "code",
   "execution_count": 83,
   "metadata": {},
   "outputs": [
    {
     "data": {
      "text/html": [
       "<div>\n",
       "<style scoped>\n",
       "    .dataframe tbody tr th:only-of-type {\n",
       "        vertical-align: middle;\n",
       "    }\n",
       "\n",
       "    .dataframe tbody tr th {\n",
       "        vertical-align: top;\n",
       "    }\n",
       "\n",
       "    .dataframe thead th {\n",
       "        text-align: right;\n",
       "    }\n",
       "</style>\n",
       "<table border=\"1\" class=\"dataframe\">\n",
       "  <thead>\n",
       "    <tr style=\"text-align: right;\">\n",
       "      <th></th>\n",
       "      <th>population</th>\n",
       "      <th>area</th>\n",
       "      <th>density</th>\n",
       "    </tr>\n",
       "  </thead>\n",
       "  <tbody>\n",
       "    <tr>\n",
       "      <th>California</th>\n",
       "      <td>383</td>\n",
       "      <td>42</td>\n",
       "      <td>9.119048</td>\n",
       "    </tr>\n",
       "    <tr>\n",
       "      <th>Texas</th>\n",
       "      <td>264</td>\n",
       "      <td>69</td>\n",
       "      <td>3.826087</td>\n",
       "    </tr>\n",
       "    <tr>\n",
       "      <th>New York</th>\n",
       "      <td>196</td>\n",
       "      <td>14</td>\n",
       "      <td>14.000000</td>\n",
       "    </tr>\n",
       "  </tbody>\n",
       "</table>\n",
       "</div>"
      ],
      "text/plain": [
       "            population  area    density\n",
       "California         383    42   9.119048\n",
       "Texas              264    69   3.826087\n",
       "New York           196    14  14.000000"
      ]
     },
     "execution_count": 83,
     "metadata": {},
     "output_type": "execute_result"
    }
   ],
   "source": [
    "# Indexer : loc, iloc\n",
    "\n",
    "states.loc['California' : 'New York']"
   ]
  },
  {
   "cell_type": "code",
   "execution_count": 89,
   "metadata": {},
   "outputs": [
    {
     "name": "stdout",
     "output_type": "stream",
     "text": [
      "            population  area    density\n",
      "California         383    42   9.119048\n",
      "Texas              264    69   3.826087\n",
      "New York           196    14  14.000000\n",
      "Florida            195    17  11.470588\n",
      "Illinois           128    14   9.142857\n",
      "          population    density\n",
      "New York         196  14.000000\n",
      "Florida          195  11.470588\n"
     ]
    }
   ],
   "source": [
    "# Masking and fancy indexing using the Loc indexer\n",
    "print(states)\n",
    "print(states.loc[states.density > 10, ['population','density']])"
   ]
  }
 ],
 "metadata": {
  "kernelspec": {
   "display_name": "Python 3",
   "language": "python",
   "name": "python3"
  },
  "language_info": {
   "codemirror_mode": {
    "name": "ipython",
    "version": 3
   },
   "file_extension": ".py",
   "mimetype": "text/x-python",
   "name": "python",
   "nbconvert_exporter": "python",
   "pygments_lexer": "ipython3",
   "version": "3.7.6"
  }
 },
 "nbformat": 4,
 "nbformat_minor": 4
}
