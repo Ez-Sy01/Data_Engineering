{
 "cells": [
  {
   "cell_type": "code",
   "execution_count": 6,
   "metadata": {},
   "outputs": [
    {
     "name": "stdout",
     "output_type": "stream",
     "text": [
      "[2, 3, 5, 7, 11]\n",
      "[]\n",
      "[1, 2, 3, 4, 10]\n",
      "['Jenny', 'Sam', 'Alexsis']\n",
      "['Jenny', 1, 2]\n",
      "[['a', 1], ['b', 2]]\n"
     ]
    }
   ],
   "source": [
    "\"\"\"\n",
    "Lists : 순서를 가진 데이터들의 집합\n",
    "- 리스트 데이터(아이템): 대괄호 [] 안의 콤마 , 등을 통해 구분됨\n",
    "- 아이템 중복 허용\n",
    "- 리스트 객체 초기화 List = []\n",
    "Multiple different data types\n",
    "- 여러 데이터 타입의 아이템을 포함할 수 있음.\n",
    "(ex. 정수, 문자열, boolean, 리스트 객체 등)\n",
    "\"\"\"\n",
    "\n",
    "primes = [2, 3, 5, 7, 11]\n",
    "print(primes)\n",
    "\n",
    "empty_list = []\n",
    "print(empty_list)\n",
    "\n",
    "numbers = [1, 2, 3, 4, 10]\n",
    "names = ['Jenny', 'Sam', 'Alexsis']\n",
    "mixed = ['Jenny', 1, 2]\n",
    "list_of_lists = [['a', 1],['b',2]]\n",
    "print(numbers)\n",
    "print(names)\n",
    "print(mixed)\n",
    "print(list_of_lists)"
   ]
  },
  {
   "cell_type": "code",
   "execution_count": 8,
   "metadata": {},
   "outputs": [
    {
     "name": "stdout",
     "output_type": "stream",
     "text": [
      "Roger\n",
      "Rafael\n",
      "Andy\n",
      "Novak\n"
     ]
    }
   ],
   "source": [
    "\"\"\"\n",
    "zero-indexing\n",
    "\n",
    "인덱스: 리스트의 특정 아이템 위치를 나타내는 정수\n",
    "-list[index]: 인덱스를 사용하여 리스트 내의 특정 아이템에 접근\n",
    "zero-indexing 방식 (0, 1, 2, 3, ... )\n",
    "-List[0] : 리스트의 첫 아이템\n",
    "\"\"\"\n",
    "names = ['Roger', 'Rafael', 'Andy', 'Novak']\n",
    "\n",
    "print(names[0]) # first info\n",
    "print(names[1])\n",
    "print(names[2])\n",
    "print(names[3])"
   ]
  },
  {
   "cell_type": "code",
   "execution_count": 9,
   "metadata": {},
   "outputs": [
    {
     "name": "stdout",
     "output_type": "stream",
     "text": [
      "Novak\n",
      "Andy\n",
      "Rafael\n",
      "Roger\n"
     ]
    }
   ],
   "source": [
    "\"\"\"\n",
    "Negative List Indices\n",
    "\n",
    "음수 인덱싱 방식(negative indexing) : 리스트의 마지막 아이템을 기준으로 인덱싱(-1, -2, -3, ...)\n",
    "- List[-1] : 리스트의 마지막 아이템\n",
    "\"\"\"\n",
    "print(names[-1]) # Last data\n",
    "print(names[-2])\n",
    "print(names[-3])\n",
    "print(names[-4])"
   ]
  },
  {
   "cell_type": "code",
   "execution_count": 17,
   "metadata": {},
   "outputs": [
    {
     "name": "stdout",
     "output_type": "stream",
     "text": [
      "['만우관', '장공관', '필헌관', '소통관']\n",
      "['생활관', '장공관', '필헌관', '소통관']\n",
      "['만우관', '장공관', '필헌관', '소통관', '송암관', '늦봄관', '장준하통일관']\n",
      "['만우관', '장공관', '필헌관', '소통관', '송암관', '늦봄관', '장준하통일관']\n"
     ]
    }
   ],
   "source": [
    "\"\"\"\n",
    "List Slicing\n",
    "슬라이스(Slice) : 리스트의 부분집합\n",
    "리스트의 슬라이싱: 특정 인덱스 범위에 해당되는 슬라이스를 구하는 연산\n",
    " - 사용법: list[Start_index : end_index] ex) tools[1:3]\n",
    " - 유의사항: 슬라이싱 결과에 start_index의 아이템이 포함되는 반면에, end_index 아이템은 포함되지 않음.\n",
    " - 리스트 아이템 수정 : list[index] = new_value\n",
    " - 원본 리스트에 변화 없음 -> 슬라이스는 별도의 객체\n",
    " - Null index : 'first item' to 'last item'\n",
    " - select all item => [:]\n",
    "\"\"\"\n",
    "hsu_buildings = ['만우관', '장공관', '필헌관', '소통관', '송암관', '늦봄관', '장준하통일관']\n",
    "building_slice = hsu_buildings[:4] # 독립적인 별도의 객체가 됨.\n",
    "\n",
    "print(building_slice)\n",
    "\n",
    "building_slice[0] = '생활관'  # 원본 리스트에는 변화 없음을 확인\n",
    "print(building_slice)\n",
    "print(hsu_buildings)\n",
    "print(hsu_buildings[:])"
   ]
  },
  {
   "cell_type": "code",
   "execution_count": 27,
   "metadata": {},
   "outputs": [
    {
     "name": "stdout",
     "output_type": "stream",
     "text": [
      "중화비빔밥\n",
      "[['해우리', '한식', '고S'], ['짜장명가', '중식', '중화비빔밥'], ['찌개동아리', '한식', '제육전골'], ['맘스터치', '양식', '싸이버거']]\n",
      "['해우리', '한식', '해우라면']\n"
     ]
    }
   ],
   "source": [
    "\"\"\"\n",
    "2-Dimensional List\n",
    "테이블 == 표 ( 2차원 데이터 [행렬 / Matrix])\n",
    "- 2차원 리스트 선언 : List = [[Sub_List1], [Sub_List2], ... ]\n",
    "- 2차원 리스트 아이템 수정: List[sublist_index][elementlist] = value\n",
    "\"\"\"\n",
    "restaurants = [['해우리', '한식', '고S'],\n",
    "               ['짜장명가', '중식', '중화비빔밥'],\n",
    "               ['찌개동아리','한식','제육전골'],\n",
    "               ['맘스터치','양식','싸이버거']]\n",
    "print(restaurants[1][2])\n",
    "print(restaurants)\n",
    "\n",
    "restaurants[0][2] = '해우라면'\n",
    "print(restaurants[0])"
   ]
  },
  {
   "cell_type": "code",
   "execution_count": 30,
   "metadata": {},
   "outputs": [
    {
     "name": "stdout",
     "output_type": "stream",
     "text": [
      "['cake', 'cookie', 'bread', 'biscuit', 'tart']\n"
     ]
    }
   ],
   "source": [
    "\"\"\"\n",
    "Adding Lists Together\n",
    " - 리스트 추가하기: result = list_one + list_two\n",
    " - 리스트 개별 아이템 추가 : use append() or insert()\n",
    "\"\"\"\n",
    "\n",
    "items_one = ['cake', 'cookie', 'bread']\n",
    "items_two = ['biscuit', 'tart']\n",
    "\n",
    "total_items = items_one + items_two\n",
    "print(total_items)"
   ]
  },
  {
   "cell_type": "code",
   "execution_count": 47,
   "metadata": {},
   "outputs": [
    {
     "name": "stdout",
     "output_type": "stream",
     "text": [
      "5\n",
      "2\n",
      "['daisies', 'perwinkle', 'tulips']\n",
      "['Karla', 'Maxium', 'Vikor', 'Martin', 'Isabella']\n",
      "['C Programming', 'Calculus', 'Data Structures']\n",
      "['C Programming', 'Calculus']\n",
      "['C Programming']\n",
      "[1, 2, 3, 4]\n",
      "['늦봄관', '만우관', '소통관', '송암관', '장공관', '장준하통일관', '필헌관']\n",
      "[1, 2, 3, 4]\n"
     ]
    }
   ],
   "source": [
    "\"\"\"\n",
    "Useful Methods for Lists\n",
    "1. len() - len() : 리스트 크기를 리턴 -> 리스트의 크기 구하기 number of list ( size )\n",
    "2. count() - count() : 특정 아이템의 개수를 리턴 / 중복 허용함. -> 객체 안에 있는 개수 구하기 \n",
    "3. append() - 아이템을 리스트의 끝에 추가\n",
    "4. insert() - 아이템을 리스트의 특정 위치에 추가 / This method needs index\n",
    "5. pop() - 특정 위치의 아이템을 삭제 default option is last item delete\n",
    "6. remove() - 특정 아이템을 삭제\n",
    "7. sort() - 리스트 내 아이템들을 정렬 / sorted() : 정렬된 리스트를 리턴해줌.\n",
    "\"\"\"\n",
    "\n",
    "# len()\n",
    "knapsack = [2, 4, 3, 7, 10]\n",
    "size = len(knapsack)\n",
    "print(size)\n",
    "\n",
    "# count()\n",
    "backpack = ['pencil', 'pen', 'notebook', 'textbook', 'pen']\n",
    "numPen = backpack.count('pen')\n",
    "print(numPen)\n",
    "\n",
    "# append()\n",
    "orders = ['daisies', 'perwinkle']\n",
    "orders.append('tulips')\n",
    "print(orders)\n",
    "\n",
    "#insert()\n",
    "store_line = ['Karla', 'Maxium', 'Martin', 'Isabella']\n",
    "store_line.insert(2,'Vikor')\n",
    "print(store_line)\n",
    "\n",
    "# pop()\n",
    "sw_subjects = ['C Programming', 'Calculus', 'Data Engineering', 'Data Structures']\n",
    "sw_subjects.pop(2)\n",
    "print(sw_subjects)\n",
    "sw_subjects.pop()\n",
    "print(sw_subjects)\n",
    "\n",
    "# remove()\n",
    "sw_subjects.remove('Calculus')\n",
    "print(sw_subjects)\n",
    "\n",
    "# sort()\n",
    "numbers = [4, 2, 1, 3]\n",
    "numbers.sort()\n",
    "print(numbers)\n",
    "\n",
    "hsu_buildings.sort()\n",
    "print(hsu_buildings)\n",
    "\n",
    "# sorted()\n",
    "numbers = [4, 2, 1, 3]\n",
    "sorted_numbers = sorted(numbers)\n",
    "print(sorted_numbers)"
   ]
  },
  {
   "cell_type": "code",
   "execution_count": null,
   "metadata": {},
   "outputs": [],
   "source": []
  }
 ],
 "metadata": {
  "kernelspec": {
   "display_name": "Python 3",
   "language": "python",
   "name": "python3"
  },
  "language_info": {
   "codemirror_mode": {
    "name": "ipython",
    "version": 3
   },
   "file_extension": ".py",
   "mimetype": "text/x-python",
   "name": "python",
   "nbconvert_exporter": "python",
   "pygments_lexer": "ipython3",
   "version": "3.7.6"
  }
 },
 "nbformat": 4,
 "nbformat_minor": 4
}
