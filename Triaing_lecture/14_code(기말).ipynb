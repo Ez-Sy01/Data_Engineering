{
 "cells": [
  {
   "cell_type": "markdown",
   "metadata": {},
   "source": [
    "# 결측치 처리"
   ]
  },
  {
   "cell_type": "markdown",
   "metadata": {},
   "source": [
    "# Indicating the Presence of Missing Data\n",
    " - 결측 데이터의 표현\n",
    "     - 마스크: 전체 결측 데이터를 부울 배열 또는 추가 비트로 표현\n",
    " - 센티널 값: 개별 결측 값을 표현\n",
    "     - 일반적으로 특수한 비트패턴으로 결측 값을 표현(Ex. -9999, NaN)\n",
    " - 언어/시스템에 따라 다른 결측 데이터 표현 방식을 사용\n",
    "     - R언어: 센티널 값 방식(NA, NaN)\n",
    "     - SciDB: 마스크 방식(모든 데이터의 결측 상태를 추가 바이트로 표현)\n",
    " - Pandas는 센티널 값 방식으로 결측 값을 표현\n",
    "     - NaN(Not a Number)\n",
    "     - None 객체"
   ]
  },
  {
   "cell_type": "markdown",
   "metadata": {},
   "source": [
    "# None: Pythonic Missing Data\n",
    "\n",
    " - None 객체: 아무것도 없는 데이터( = null 값)\n",
    "     - 데이터 타입이 'object'인 배열에서만 사용\n",
    "     - numpy, pandas 객체에 대한 연산(Ex. 벡터화된 연산)이 호환되지 않음\n",
    "    "
   ]
  },
  {
   "cell_type": "markdown",
   "metadata": {},
   "source": [
    "# NaN: Missing Numerical Data\n",
    "\n",
    " - NaN 값: 숫자 형태의 null 값 또는 결측 값을 표현\n",
    "     - IEEE 754 표준을 사용하는 모든 시스템들이 인식하는 특수한 floating point 값\n",
    "     - 그 외에도 zero divided by zero, 무한대 등을 표현할 때 사용\n",
    " - NaN에 대한 산술 연산 결과: NaN(적어도 오류는 없음)\n",
    " - Numpy에서 제공하는 NaN 값을 무시하는 집계함수\n",
    " "
   ]
  },
  {
   "cell_type": "markdown",
   "metadata": {},
   "source": [
    "# NaN and None in Pandas\n",
    " - Pandas에서는 None을 NaN 값으로 변환"
   ]
  },
  {
   "cell_type": "markdown",
   "metadata": {},
   "source": [
    "# Operating on Null Values\n",
    " - Null 값 처리를 위한 pandas 메서드\n",
    "     - isnull(): 전체 결측 데이터에 대한 부울 배열(마스크) 생성\n",
    "     - notnull(): isnull()의 역연산\n",
    "     - dropna(): null 값 제거\n",
    "     - fillna(): null 값 채우기"
   ]
  },
  {
   "cell_type": "markdown",
   "metadata": {},
   "source": [
    "# Detecting Null Values\n",
    "\n",
    " - isnull(), notnull(): 마스크를 통해 Null 값을 표현"
   ]
  },
  {
   "cell_type": "markdown",
   "metadata": {},
   "source": [
    "# Dropping Null Values\n",
    "\n",
    " - dropna(): Null 값을 포함하는 행 또는 열을 삭제\n",
    "     - axis = 'rows: 행 삭제(=listwise deletion, 디폴트)\n",
    "     - axis = 'columns': 열 삭제(= variable deletion)\n",
    " - how 매개변수\n",
    "     - how = 'any' : Null 값이 한개라도 포함된 행/열 삭제\n",
    "     - how = 'all' : 모든 값이 전부 Null 값인 행/열 삭제"
   ]
  },
  {
   "cell_type": "markdown",
   "metadata": {},
   "source": [
    "# Filling Null Values\n",
    "\n",
    " - fillna() : Null값을 다른 값으로 대체\n",
    " - foward-fill 방식 = LOCF\n",
    "     - 결측 구간 직전 값으로 대체\n",
    " - Backward-fill 방식 = NOCB\n",
    "     - 결측 구간 직후 값으로 대체\n",
    "     "
   ]
  },
  {
   "cell_type": "markdown",
   "metadata": {},
   "source": [
    "# Imputation Demo\n",
    "\n",
    " - Ex. Air Quality 데이터셋에 대한 결측치 처리"
   ]
  },
  {
   "cell_type": "code",
   "execution_count": 1,
   "metadata": {},
   "outputs": [],
   "source": [
    "import numpy as np\n",
    "import pandas as pd "
   ]
  },
  {
   "cell_type": "code",
   "execution_count": 8,
   "metadata": {},
   "outputs": [
    {
     "data": {
      "text/plain": [
       "array([1, None, 3, 4], dtype=object)"
      ]
     },
     "execution_count": 8,
     "metadata": {},
     "output_type": "execute_result"
    }
   ],
   "source": [
    "\"\"\"\n",
    "None : Pythonic missing data\n",
    "\"\"\"\n",
    "\n",
    "# None objects as missing values\n",
    "\n",
    "arr1 = np.array([1, None, 3, 4])\n",
    "arr1"
   ]
  },
  {
   "cell_type": "code",
   "execution_count": 10,
   "metadata": {},
   "outputs": [],
   "source": [
    "# python objects are incompatible with numpy and pandas operation\n",
    "# print(np.sum(arr1))"
   ]
  },
  {
   "cell_type": "code",
   "execution_count": 16,
   "metadata": {},
   "outputs": [
    {
     "name": "stdout",
     "output_type": "stream",
     "text": [
      "float64\n",
      "nan\n"
     ]
    }
   ],
   "source": [
    "\"\"\"\n",
    "NaN : Missing Numerical Data\n",
    "\"\"\"\n",
    "arr1 = np.array([1, np.nan, 3, 4])\n",
    "print(arr1.dtype)\n",
    "print(np.sum(arr1))"
   ]
  },
  {
   "cell_type": "code",
   "execution_count": 17,
   "metadata": {},
   "outputs": [],
   "source": [
    "# Arithmetic with NaN will be another Data"
   ]
  },
  {
   "cell_type": "code",
   "execution_count": 27,
   "metadata": {},
   "outputs": [
    {
     "name": "stdout",
     "output_type": "stream",
     "text": [
      "0    1.0\n",
      "1    NaN\n",
      "2    2.0\n",
      "3    NaN\n",
      "dtype: float64\n",
      "float64\n"
     ]
    }
   ],
   "source": [
    "# Pandas automatically converts the None to a NaN value.\n",
    "\n",
    "ser = pd.Series([1,np.nan,2,None])\n",
    "print(ser)\n",
    "print(ser.dtype)\n",
    "# ser[1] = 'string'\n",
    "# print(ser)\n",
    "# print(ser.dtype)"
   ]
  },
  {
   "cell_type": "code",
   "execution_count": 28,
   "metadata": {},
   "outputs": [
    {
     "name": "stdout",
     "output_type": "stream",
     "text": [
      "0    1.0\n",
      "1    NaN\n",
      "2    2.0\n",
      "3    NaN\n",
      "dtype: float64\n"
     ]
    },
    {
     "data": {
      "text/plain": [
       "0    False\n",
       "1     True\n",
       "2    False\n",
       "3     True\n",
       "dtype: bool"
      ]
     },
     "execution_count": 28,
     "metadata": {},
     "output_type": "execute_result"
    }
   ],
   "source": [
    "\"\"\"\n",
    "Detecting null values\n",
    "\"\"\"\n",
    "\n",
    "# isnull()\n",
    "print(ser)\n",
    "ser.isnull()"
   ]
  },
  {
   "cell_type": "code",
   "execution_count": null,
   "metadata": {},
   "outputs": [],
   "source": []
  },
  {
   "cell_type": "code",
   "execution_count": 29,
   "metadata": {},
   "outputs": [
    {
     "data": {
      "text/plain": [
       "0     True\n",
       "1    False\n",
       "2     True\n",
       "3    False\n",
       "dtype: bool"
      ]
     },
     "execution_count": 29,
     "metadata": {},
     "output_type": "execute_result"
    }
   ],
   "source": [
    "# notnull()\n",
    "ser.notnull()"
   ]
  },
  {
   "cell_type": "code",
   "execution_count": 32,
   "metadata": {},
   "outputs": [
    {
     "data": {
      "text/plain": [
       "0    1.0\n",
       "2    2.0\n",
       "dtype: float64"
      ]
     },
     "execution_count": 32,
     "metadata": {},
     "output_type": "execute_result"
    }
   ],
   "source": [
    "\"\"\"\n",
    "Dropping null values\n",
    "\"\"\"\n",
    "\n",
    "#dropna() axis 매개변수는 dataFrame 경우만.\n",
    "ser.dropna(how = 'all')"
   ]
  },
  {
   "cell_type": "code",
   "execution_count": 41,
   "metadata": {},
   "outputs": [
    {
     "name": "stdout",
     "output_type": "stream",
     "text": [
      "a    1.0\n",
      "b    NaN\n",
      "c    2.0\n",
      "d    NaN\n",
      "e    3.0\n",
      "dtype: float64\n",
      "a    1.0\n",
      "b    0.0\n",
      "c    2.0\n",
      "d    0.0\n",
      "e    3.0\n",
      "dtype: float64\n"
     ]
    }
   ],
   "source": [
    "\"\"\"\n",
    "Filling Null Values\n",
    "\"\"\"\n",
    "\n",
    "# fillna()\n",
    "\n",
    "ser = pd.Series([1, np.nan, 2, None, 3], index = list('abcde'))\n",
    "print(ser)\n",
    "\n",
    "print(ser.fillna(0))"
   ]
  },
  {
   "cell_type": "code",
   "execution_count": 45,
   "metadata": {},
   "outputs": [
    {
     "name": "stdout",
     "output_type": "stream",
     "text": [
      "a    1.0\n",
      "b    2.0\n",
      "c    2.0\n",
      "d    3.0\n",
      "e    3.0\n",
      "dtype: float64\n",
      "a    1.0\n",
      "b    2.0\n",
      "c    2.0\n",
      "d    3.0\n",
      "e    3.0\n",
      "dtype: float64\n"
     ]
    }
   ],
   "source": [
    "# Forwad-fill = LOCF\n",
    "ser.fillna(method = 'ffill')\n",
    "# Backward-fill = NOCB\n",
    "print(ser.bfill())\n",
    "print(ser.fillna(method = 'bfill'))"
   ]
  },
  {
   "cell_type": "code",
   "execution_count": null,
   "metadata": {},
   "outputs": [],
   "source": []
  }
 ],
 "metadata": {
  "kernelspec": {
   "display_name": "Python 3",
   "language": "python",
   "name": "python3"
  },
  "language_info": {
   "codemirror_mode": {
    "name": "ipython",
    "version": 3
   },
   "file_extension": ".py",
   "mimetype": "text/x-python",
   "name": "python",
   "nbconvert_exporter": "python",
   "pygments_lexer": "ipython3",
   "version": "3.7.6"
  }
 },
 "nbformat": 4,
 "nbformat_minor": 4
}
