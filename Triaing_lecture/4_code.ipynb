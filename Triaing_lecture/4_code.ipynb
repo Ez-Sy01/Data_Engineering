{
 "cells": [
  {
   "cell_type": "markdown",
   "metadata": {},
   "source": [
    "# definition - 함수(function)"
   ]
  },
  {
   "cell_type": "code",
   "execution_count": 29,
   "metadata": {},
   "outputs": [
    {
     "data": {
      "text/plain": [
       "\"\\n- 프로그램의 함수(function) : 어떤 기능을 수행하는 코드 집합\\n    - 주어진 입력 x을 처리하여 출력 f(x)을 반환하는 'black-box'\\n    - 특징: 이름에 의한 호출(call by name), 재사용성\\n    - Ex. print(), range(), len()\\n- 메서드(method) : 특정 클래스 내에 선언된 함수\\n    - Ex. List.count(), List.append()\\n    - methods ㄷ functions\\n\""
      ]
     },
     "execution_count": 29,
     "metadata": {},
     "output_type": "execute_result"
    }
   ],
   "source": [
    "'''\n",
    "함수의 정의 : 두 집합 (x,y) 사이의 대응관계(mapping)을 나타냄.\n",
    "\"임의의 원소 xㅌX에 대해, 그에 대응하는 yㅌY가 유일하게 존재함.\"\n",
    "- X = {1,2,3} 는 함수 f(x)의 domain(정의역)\n",
    "- 집합 Y = {D,B,C,A}는 함수 f(x)의 codomain(공역)\n",
    "- 함숫값은 집합 X의 원소 x에 대응되는 집합 Y의 원소 y\n",
    "- 함숫값들의 집합 {D,C}는 함수 f(x)의 range(치역)\n",
    "'''\n",
    "\"\"\"\n",
    "- 프로그램의 함수(function) : 어떤 기능을 수행하는 코드 집합\n",
    "    - 주어진 입력 x을 처리하여 출력 f(x)을 반환하는 'black-box'\n",
    "    - 특징: 이름에 의한 호출(call by name), 재사용성\n",
    "    - Ex. print(), range(), len()\n",
    "- 메서드(method) : 특정 클래스 내에 선언된 함수\n",
    "    - Ex. List.count(), List.append()\n",
    "    - methods ㄷ functions\n",
    "\"\"\""
   ]
  },
  {
   "cell_type": "code",
   "execution_count": 30,
   "metadata": {},
   "outputs": [
    {
     "name": "stdout",
     "output_type": "stream",
     "text": [
      "2\n"
     ]
    }
   ],
   "source": [
    "'''\n",
    "Function Vs Method\n",
    "'''\n",
    "# function\n",
    "def my_function(x):\n",
    "    return x + 1\n",
    "\n",
    "y = 3\n",
    "my_function(y)\n",
    "\n",
    "# method : 클래스 내에 정의된 함수\n",
    "class my_class:\n",
    "   #@staticmethod -> parameter 있어도 됨.\n",
    "    def my_method(self):\n",
    "        return x + 1\n",
    "x = 1\n",
    "cls = my_class()\n",
    "print(cls.my_method()) # parameter 안받음"
   ]
  },
  {
   "cell_type": "code",
   "execution_count": 31,
   "metadata": {},
   "outputs": [
    {
     "name": "stdout",
     "output_type": "stream",
     "text": [
      "Hello everyone, my name is Si Yoon, I was born in 2001, and I live in Suwon.\n"
     ]
    }
   ],
   "source": [
    "\"\"\"\n",
    "Parameters and Arguments\n",
    "- 대부분의 함수에는 입력이 필요함\n",
    "- 매개변수(parameter): 함수에 정의된 입력 변수\n",
    "- 인자(argument): 함수 호출 시의 입력\n",
    "    - 입력된 인자는 함수에 전달되어 매개변수의 값으로 할당됨.\n",
    "\"\"\"\n",
    "def introduce_myself(name, birthyear, city):\n",
    "    print(\"Hello everyone, my name is %s, I was born in %d, and I live in %s.\" % (name,birthyear,city))\n",
    "\n",
    "introduce_myself('Si Yoon', 2001, 'Suwon')"
   ]
  },
  {
   "cell_type": "code",
   "execution_count": 32,
   "metadata": {},
   "outputs": [
    {
     "data": {
      "text/plain": [
       "\"\\nFunction Indentation\\n- 지금까지 배운 제어문 : if, elif, else, for, while -> 코드 블럭\\n    - 코드 블럭은 ':' 문자와 들여쓰기(indentation)를 통해 구분됨\\n- 함수 또한 코드 블럭의 일종이다.\\n\""
      ]
     },
     "execution_count": 32,
     "metadata": {},
     "output_type": "execute_result"
    }
   ],
   "source": [
    "\"\"\"\n",
    "Function Indentation\n",
    "- 지금까지 배운 제어문 : if, elif, else, for, while -> 코드 블럭\n",
    "    - 코드 블럭은 ':' 문자와 들여쓰기(indentation)를 통해 구분됨\n",
    "- 함수 또한 코드 블럭의 일종이다.\n",
    "\"\"\""
   ]
  },
  {
   "cell_type": "code",
   "execution_count": 33,
   "metadata": {},
   "outputs": [
    {
     "name": "stdout",
     "output_type": "stream",
     "text": [
      "2021 is not a leap year\n"
     ]
    }
   ],
   "source": [
    "\"\"\"\n",
    "Returning Value from Function\n",
    "- return 키워드: 함수의 결과 값을 함수 호출 부에 반환\n",
    "\"\"\"\n",
    "\n",
    "# Leap year : 윤년 (2월 29일까지)\n",
    "\n",
    "def check_leap_year(year):\n",
    "    if year % 4 == 0:\n",
    "        return str(year) + ' is a leap year'\n",
    "    else:\n",
    "        return str(year) + ' is not a leap year'\n",
    "year_to_check = 2021\n",
    "\n",
    "return_value = check_leap_year(year_to_check)\n",
    "print(return_value)"
   ]
  },
  {
   "cell_type": "code",
   "execution_count": 34,
   "metadata": {},
   "outputs": [
    {
     "name": "stdout",
     "output_type": "stream",
     "text": [
      "1 4 9\n"
     ]
    }
   ],
   "source": [
    "\"\"\"\n",
    "Returning Multiple value\n",
    " - 파이썬에서는 여러개의 값 반환 가능\n",
    "\"\"\"\n",
    "\n",
    "def square_point(x, y, z):\n",
    "    return x ** 2, y ** 2, z ** 2\n",
    "\n",
    "x,y,z = 1,2,3\n",
    "x,y,z = square_point(x,y,z)\n",
    "print(x,y,z)"
   ]
  },
  {
   "cell_type": "code",
   "execution_count": 35,
   "metadata": {},
   "outputs": [
    {
     "name": "stdout",
     "output_type": "stream",
     "text": [
      "Hello\n"
     ]
    }
   ],
   "source": [
    "\"\"\"\n",
    "Global Variables\n",
    " - 변수의 선언 위치에 따라서 전역변수와 지역변수로 나뉨\n",
    " - 전역변수(global variable): 함수 밖에서 정의된 변수\n",
    "     - 함수 안/밖에서 모두 사용 가능\n",
    "\"\"\"\n",
    "a = \"Hello\"\n",
    "\n",
    "def prints_a():\n",
    "    print(a)\n",
    "    \n",
    "prints_a()"
   ]
  },
  {
   "cell_type": "code",
   "execution_count": 40,
   "metadata": {},
   "outputs": [
    {
     "name": "stdout",
     "output_type": "stream",
     "text": [
      "Hello\n"
     ]
    }
   ],
   "source": [
    "\"\"\"\n",
    "Loval Variables in a Function\n",
    " - 지역변수는 함수 안에서만 사용 가능\n",
    "\"\"\"\n",
    "def prints_b():\n",
    "    b = \"Hello\"\n",
    "    print(b)\n",
    "    \n",
    "prints_b()\n",
    "# print(b)"
   ]
  },
  {
   "cell_type": "code",
   "execution_count": 42,
   "metadata": {},
   "outputs": [
    {
     "name": "stdout",
     "output_type": "stream",
     "text": [
      "Height = 1\n",
      "Width = 2\n",
      "Depth = 3\n"
     ]
    },
    {
     "data": {
      "text/plain": [
       "6"
      ]
     },
     "execution_count": 42,
     "metadata": {},
     "output_type": "execute_result"
    }
   ],
   "source": [
    "\"\"\"\n",
    "Keyword Arguments and Default Value\n",
    " - 함수의 입력이 많은 경우?\n",
    "     Ex. f(a,b,,x,b,,,,d,,)\n",
    " - 키워드 인자: 함수 호출 시 매개변수명과 인자 값을 같이 입력값으로 제공\n",
    "     - 매개변수 순서와 상관 없이 인자 전달 가능 Ex. f(x = 1, y =2)\n",
    " - 디폴트 값: 함수에 정의된 매개변수의 기본 값\n",
    "     - 함수 호출 시 인자가 없어도 동작\n",
    "\"\"\"\n",
    "\n",
    "\n",
    "def findvolume(height = 1, width = 2, depth = 3):\n",
    "    print(\"Height = \" + str(height)) # str() : 어떤 값을 문자열 값으로 변환해줌.\n",
    "    print(\"Width = \" + str(width))\n",
    "    print(\"Depth = \" + str(depth))\n",
    "    return height * width * depth\n",
    "findvolume()"
   ]
  }
 ],
 "metadata": {
  "kernelspec": {
   "display_name": "Python 3",
   "language": "python",
   "name": "python3"
  },
  "language_info": {
   "codemirror_mode": {
    "name": "ipython",
    "version": 3
   },
   "file_extension": ".py",
   "mimetype": "text/x-python",
   "name": "python",
   "nbconvert_exporter": "python",
   "pygments_lexer": "ipython3",
   "version": "3.7.6"
  }
 },
 "nbformat": 4,
 "nbformat_minor": 4
}
