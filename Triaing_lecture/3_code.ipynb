{
 "cells": [
  {
   "cell_type": "code",
   "execution_count": 11,
   "metadata": {},
   "outputs": [
    {
     "name": "stdout",
     "output_type": "stream",
     "text": [
      "1\n",
      "2\n",
      "3\n",
      "4\n",
      "5\n",
      "0\n",
      "1\n",
      "2\n",
      "3\n",
      "4\n",
      "5\n",
      "6\n",
      "7\n",
      "8\n",
      "9\n",
      "1\n",
      "2\n",
      "4\n",
      "5\n",
      "2\n"
     ]
    }
   ],
   "source": [
    "\"\"\"\n",
    "Loop Statements\n",
    " - 반복문: 프로그램 특정 부분을 반복적으로 실행하기 위한 제어문\n",
    " - 파이썬에는 for, while 키워드를 통해 반복문을 작성\n",
    " - for문 : 리스트의 아이템마다 반복문을 실행\n",
    " - while문 : 조건식이 True일 때 반복문을 실행\n",
    " \n",
    "==== for 문 Example ====\n",
    "for variable in List:\n",
    "     statement\n",
    "     statement\n",
    "     ...\n",
    "     \n",
    "==== while 문 Example ====\n",
    "while conditions:\n",
    "    statements\n",
    "    statements\n",
    "    ...\n",
    "    \n",
    "Loops with range()\n",
    " - n번만큼 반복하고 싶을땐 -> range(n)\n",
    "Keyword\n",
    "1. continue: 남은 코드들을 건너뛰고 다음 반복을 시작\n",
    "2. break : 반복문 종료\n",
    "3. List Comprehension : for 문을 이용한 리스트 생성\n",
    " - 사용법 : result = [expression for item in List]\n",
    "\"\"\"\n",
    "nums = [1, 2, 3, 4, 5]\n",
    "\n",
    "for num in nums:\n",
    "    print(num)\n",
    "    \n",
    "# range()\n",
    "for i in range(10):\n",
    "    print(i)"
   ]
  },
  {
   "cell_type": "code",
   "execution_count": 13,
   "metadata": {},
   "outputs": [
    {
     "name": "stdout",
     "output_type": "stream",
     "text": [
      "1\n",
      "2\n",
      "4\n",
      "5\n",
      "2\n"
     ]
    }
   ],
   "source": [
    "# continue Keyword\n",
    "nums = [1, 2, -1, 4, -5, 5, 2, -9]\n",
    "for i in nums:\n",
    "    if i < 0:\n",
    "        continue\n",
    "    print(i)"
   ]
  },
  {
   "cell_type": "code",
   "execution_count": 16,
   "metadata": {},
   "outputs": [
    {
     "name": "stdout",
     "output_type": "stream",
     "text": [
      "stage1is complete\n",
      "stage2is complete\n",
      "stage3is complete\n",
      "Game is Over...\n"
     ]
    }
   ],
   "source": [
    "# break keyword\n",
    "game_plays = ['stage1', 'stage2', 'stage3', 'gameover' \n",
    "              ,'stage4', 'stage5']\n",
    "for play in game_plays:\n",
    "    if play == 'gameover':\n",
    "        print('Game is Over...')\n",
    "        break\n",
    "    print(play + 'is complete')"
   ]
  },
  {
   "cell_type": "code",
   "execution_count": 23,
   "metadata": {},
   "outputs": [
    {
     "name": "stdout",
     "output_type": "stream",
     "text": [
      "[1, 2, 3, 4, 5, 6, 7, 8, 9, 10]\n",
      "['해리 케인', '탕기 은돔벨레']\n"
     ]
    }
   ],
   "source": [
    "# List Comprehension\n",
    "one_to_ten = [i + 1 for i in range(10)]\n",
    "print(one_to_ten)\n",
    "\"\"\"\n",
    "List comprehension including conditions\n",
    "\"\"\"\n",
    "\n",
    "hotspurs =[['손흥민', 'A+'],['해리 케인', 'F'],\n",
    "          ['탕기 은돔벨레', 'F'],['델리 알리','B'],\n",
    "          ['루카스 모우라', 'B+'],['에메르송','D']]\n",
    "poors = [player[0] for player in hotspurs if player[1] == 'F']\n",
    "print(poors)"
   ]
  },
  {
   "cell_type": "code",
   "execution_count": 25,
   "metadata": {},
   "outputs": [
    {
     "name": "stdout",
     "output_type": "stream",
     "text": [
      "1 X 1 = 1\n",
      "1 X 2 = 2\n",
      "1 X 3 = 3\n",
      "1 X 4 = 4\n",
      "1 X 5 = 5\n",
      "1 X 6 = 6\n",
      "1 X 7 = 7\n",
      "1 X 8 = 8\n",
      "1 X 9 = 9\n",
      "2 X 1 = 2\n",
      "2 X 2 = 4\n",
      "2 X 3 = 6\n",
      "2 X 4 = 8\n",
      "2 X 5 = 10\n",
      "2 X 6 = 12\n",
      "2 X 7 = 14\n",
      "2 X 8 = 16\n",
      "2 X 9 = 18\n",
      "3 X 1 = 3\n",
      "3 X 2 = 6\n",
      "3 X 3 = 9\n",
      "3 X 4 = 12\n",
      "3 X 5 = 15\n",
      "3 X 6 = 18\n",
      "3 X 7 = 21\n",
      "3 X 8 = 24\n",
      "3 X 9 = 27\n",
      "4 X 1 = 4\n",
      "4 X 2 = 8\n",
      "4 X 3 = 12\n",
      "4 X 4 = 16\n",
      "4 X 5 = 20\n",
      "4 X 6 = 24\n",
      "4 X 7 = 28\n",
      "4 X 8 = 32\n",
      "4 X 9 = 36\n",
      "5 X 1 = 5\n",
      "5 X 2 = 10\n",
      "5 X 3 = 15\n",
      "5 X 4 = 20\n",
      "5 X 5 = 25\n",
      "5 X 6 = 30\n",
      "5 X 7 = 35\n",
      "5 X 8 = 40\n",
      "5 X 9 = 45\n",
      "6 X 1 = 6\n",
      "6 X 2 = 12\n",
      "6 X 3 = 18\n",
      "6 X 4 = 24\n",
      "6 X 5 = 30\n",
      "6 X 6 = 36\n",
      "6 X 7 = 42\n",
      "6 X 8 = 48\n",
      "6 X 9 = 54\n",
      "7 X 1 = 7\n",
      "7 X 2 = 14\n",
      "7 X 3 = 21\n",
      "7 X 4 = 28\n",
      "7 X 5 = 35\n",
      "7 X 6 = 42\n",
      "7 X 7 = 49\n",
      "7 X 8 = 56\n",
      "7 X 9 = 63\n",
      "8 X 1 = 8\n",
      "8 X 2 = 16\n",
      "8 X 3 = 24\n",
      "8 X 4 = 32\n",
      "8 X 5 = 40\n",
      "8 X 6 = 48\n",
      "8 X 7 = 56\n",
      "8 X 8 = 64\n",
      "8 X 9 = 72\n",
      "9 X 1 = 9\n",
      "9 X 2 = 18\n",
      "9 X 3 = 27\n",
      "9 X 4 = 36\n",
      "9 X 5 = 45\n",
      "9 X 6 = 54\n",
      "9 X 7 = 63\n",
      "9 X 8 = 72\n",
      "9 X 9 = 81\n"
     ]
    }
   ],
   "source": [
    "\"\"\"\n",
    "Nested Loops\n",
    "\"\"\"\n",
    "# 구구단 프로그램 (1~9)\n",
    "one_to_nine = [i+1 for i in range(9)]\n",
    "\n",
    "for i in one_to_nine:\n",
    "    for j in one_to_nine:\n",
    "        print(\"%d X %d = %d\" % (i, j, i * j))"
   ]
  },
  {
   "cell_type": "code",
   "execution_count": 26,
   "metadata": {},
   "outputs": [
    {
     "name": "stdout",
     "output_type": "stream",
     "text": [
      "참치김밥냠냠\n",
      "순대냠냠\n",
      "로제떡볶이냠냠\n",
      "김말이냠냠\n",
      "배부르다.. 여기까지\n"
     ]
    }
   ],
   "source": [
    "hungry = True\n",
    "foods_on_table = ['참치김밥', '순대', '로제떡볶이',\n",
    "                 '김말이','오뎅','단무지','고로케']\n",
    "foods_num = 7\n",
    "ate_num = 0\n",
    "while ate_num < 4:\n",
    "    print(foods_on_table[ate_num] + \" 냠냠\")\n",
    "    ate_num += 1\n",
    "print('배부르다.. 여기까지')"
   ]
  }
 ],
 "metadata": {
  "kernelspec": {
   "display_name": "Python 3",
   "language": "python",
   "name": "python3"
  },
  "language_info": {
   "codemirror_mode": {
    "name": "ipython",
    "version": 3
   },
   "file_extension": ".py",
   "mimetype": "text/x-python",
   "name": "python",
   "nbconvert_exporter": "python",
   "pygments_lexer": "ipython3",
   "version": "3.7.6"
  }
 },
 "nbformat": 4,
 "nbformat_minor": 4
}
